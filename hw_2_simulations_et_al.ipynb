{
 "cells": [
  {
   "cell_type": "code",
   "execution_count": 1667,
   "id": "7d166263",
   "metadata": {},
   "outputs": [],
   "source": [
    "import numpy as np\n",
    "import matplotlib.pyplot as plt\n",
    "from scipy import stats\n",
    "import pandas as pd\n",
    "from tqdm import tqdm"
   ]
  },
  {
   "cell_type": "markdown",
   "id": "9914fd2d",
   "metadata": {},
   "source": [
    "__Задача 3__"
   ]
  },
  {
   "cell_type": "markdown",
   "id": "af62512c",
   "metadata": {},
   "source": [
    "__(a)__"
   ]
  },
  {
   "cell_type": "markdown",
   "id": "2ed2c196",
   "metadata": {},
   "source": [
    "Асимптотический доверительный интервал"
   ]
  },
  {
   "cell_type": "code",
   "execution_count": 340,
   "id": "e0421b04",
   "metadata": {},
   "outputs": [],
   "source": [
    "np.random.seed(7645)\n",
    "sample_exp_3 = np.random.exponential(scale = 1, size = (10000,20))"
   ]
  },
  {
   "cell_type": "code",
   "execution_count": 341,
   "id": "f57c593d",
   "metadata": {},
   "outputs": [
    {
     "data": {
      "text/plain": [
       "1.0000577124221173"
      ]
     },
     "execution_count": 341,
     "metadata": {},
     "output_type": "execute_result"
    }
   ],
   "source": [
    "sample_exp_3.mean()"
   ]
  },
  {
   "cell_type": "code",
   "execution_count": 1000,
   "id": "ecdccf53",
   "metadata": {},
   "outputs": [],
   "source": [
    "n = 20\n",
    "means = sample_exp_3.mean(axis = 1)\n",
    "z = stats.norm.isf(0.025)"
   ]
  },
  {
   "cell_type": "code",
   "execution_count": 1002,
   "id": "6d2e72cb",
   "metadata": {},
   "outputs": [
    {
     "data": {
      "text/plain": [
       "1.9599639845400545"
      ]
     },
     "execution_count": 1002,
     "metadata": {},
     "output_type": "execute_result"
    }
   ],
   "source": [
    "z"
   ]
  },
  {
   "cell_type": "markdown",
   "id": "53433d19",
   "metadata": {},
   "source": [
    "асимптотический интервал для __математического ожидания__"
   ]
  },
  {
   "cell_type": "markdown",
   "id": "ee1af7a4",
   "metadata": {},
   "source": [
    "$$\n",
    "\\bar X - z_{0.975}\\cdot \\sqrt{\\frac{\\hat\\sigma^2}{n}}< \\mu<\\bar X - z_{0.975}\\cdot \\sqrt{\\frac{\\hat\\sigma^2}{n}}\n",
    "$$"
   ]
  },
  {
   "cell_type": "code",
   "execution_count": 1003,
   "id": "df268143",
   "metadata": {},
   "outputs": [],
   "source": [
    "expectation_ci = np.array([means - z * np.sqrt(sample_exp_3.var(ddof = 1, axis = 1)/n), means + z * np.sqrt(sample_exp_3.var(ddof = 1, axis = 1)/n)]).T"
   ]
  },
  {
   "cell_type": "code",
   "execution_count": 1004,
   "id": "e17a496a",
   "metadata": {},
   "outputs": [],
   "source": [
    "count_in = 0\n",
    "for i,j in expectation_ci:\n",
    "    if i < 1 and 1 < j:\n",
    "        count_in +=1"
   ]
  },
  {
   "cell_type": "code",
   "execution_count": 1005,
   "id": "59ccb1ad",
   "metadata": {},
   "outputs": [
    {
     "data": {
      "text/plain": [
       "0.9008"
      ]
     },
     "execution_count": 1005,
     "metadata": {},
     "output_type": "execute_result"
    }
   ],
   "source": [
    "count_in/10000"
   ]
  },
  {
   "cell_type": "markdown",
   "id": "779b08aa",
   "metadata": {},
   "source": [
    "Получили оценку, что интервал накрывает действительное мо с вероятностью 0.9"
   ]
  },
  {
   "cell_type": "markdown",
   "id": "b7b653cb",
   "metadata": {},
   "source": [
    "__Наивный бутстрап__"
   ]
  },
  {
   "cell_type": "markdown",
   "id": "a17fd81d",
   "metadata": {},
   "source": [
    "для каждой из 10000 выборок с экспоненциальным распределением генерирую 10000 бутстрап выборок среднего, затем строю по ним 95-% интервал с помощью квантилей"
   ]
  },
  {
   "cell_type": "markdown",
   "id": "3081f627",
   "metadata": {},
   "source": [
    "$$\n",
    "q_{left}(\\frac{1}{\\lambda}_{boot}) < \\frac{1}{\\lambda}< q_{right}(\\frac{1}{\\lambda}_{boot})\n",
    "$$"
   ]
  },
  {
   "cell_type": "code",
   "execution_count": 1662,
   "id": "284ba26b",
   "metadata": {},
   "outputs": [
    {
     "name": "stderr",
     "output_type": "stream",
     "text": [
      "100%|██████████| 10000/10000 [00:44<00:00, 222.81it/s]\n"
     ]
    }
   ],
   "source": [
    "np.random.seed(2)\n",
    "ci_covers = 0\n",
    "for i in tqdm(range(10000)):\n",
    "    X = sample_exp_3[i]\n",
    "    bootstrapped_X = np.random.choice(X, size = (10000,20))\n",
    "    R_hat = bootstrapped_X.mean(axis = 1)\n",
    "    q_right = np.percentile(R_hat, 97.5)\n",
    "    q_left = np.percentile(R_hat, 2.5)\n",
    "    ci = [q_left, q_right]\n",
    "    if ci[0] < 1 < ci[1]:\n",
    "        ci_covers += 1"
   ]
  },
  {
   "cell_type": "code",
   "execution_count": 1009,
   "id": "142bbf1f",
   "metadata": {},
   "outputs": [
    {
     "data": {
      "text/plain": [
       "0.9018"
      ]
     },
     "execution_count": 1009,
     "metadata": {},
     "output_type": "execute_result"
    }
   ],
   "source": [
    "ci_covers / 10000"
   ]
  },
  {
   "cell_type": "markdown",
   "id": "fd1380b6",
   "metadata": {},
   "source": [
    "Получил оценкк вероятноcти накрытия интервалом действительного параметра равную 0.902"
   ]
  },
  {
   "cell_type": "markdown",
   "id": "4ce891cd",
   "metadata": {},
   "source": [
    "__Бутстрэп t-статистики__"
   ]
  },
  {
   "cell_type": "markdown",
   "id": "48938f45",
   "metadata": {},
   "source": [
    "Тут для каждой изначальной выборки генерирую 10000 бутстрап выборок, затем считаю следующую статистику:"
   ]
  },
  {
   "cell_type": "markdown",
   "id": "44d1b607",
   "metadata": {},
   "source": [
    "$$\n",
    "\\frac{\\bar X^* - \\bar X}{\\sqrt\\frac{\\hat\\sigma_*^2}{n}}\n",
    "$$"
   ]
  },
  {
   "cell_type": "markdown",
   "id": "b4e9a549",
   "metadata": {},
   "source": [
    "По распределнию полученных статистик высчитываю квантили $q_{left}$ и $q_{right}$ и строю 95-% интервал"
   ]
  },
  {
   "cell_type": "markdown",
   "id": "f40cd088",
   "metadata": {},
   "source": [
    "$$\n",
    "\\bar X - q_{right}\\cdot\\sqrt{\\frac{\\hat\\sigma^2}{n}} < \\frac{1}{\\lambda} <\\bar X - q_{left}\\cdot\\sqrt{\\frac{\\hat\\sigma^2}{n}}\n",
    "$$"
   ]
  },
  {
   "cell_type": "code",
   "execution_count": 1010,
   "id": "ac92d401",
   "metadata": {},
   "outputs": [],
   "source": [
    "n = 20"
   ]
  },
  {
   "cell_type": "code",
   "execution_count": 1011,
   "id": "eaaaf35d",
   "metadata": {},
   "outputs": [
    {
     "name": "stderr",
     "output_type": "stream",
     "text": [
      "100%|██████████| 10000/10000 [01:00<00:00, 165.38it/s]\n"
     ]
    }
   ],
   "source": [
    "np.random.seed(9)\n",
    "ci_covers = 0\n",
    "for i in tqdm(range(10000)):\n",
    "    X = sample_exp_3[i]\n",
    "    bootstrapped_X = np.random.choice(X, size = (10000, 20))\n",
    "    R_hat = (bootstrapped_X.mean(axis = 1) - X.mean())/(np.sqrt(bootstrapped_X.var(ddof = 1, axis = 1)/n))\n",
    "    q_right = np.percentile(R_hat, 97.5)\n",
    "    q_left = np.percentile(R_hat, 2.5)\n",
    "    ci = [X.mean() - q_right * np.sqrt(X.var(ddof = 1)/n), X.mean()- q_left * np.sqrt(X.var(ddof = 1)/n)]\n",
    "    if ci[0] < 1 < ci[1]:\n",
    "        ci_covers += 1"
   ]
  },
  {
   "cell_type": "markdown",
   "id": "3335cd8b",
   "metadata": {},
   "source": [
    "Получил оценку вероятности накрытия интервалом действительного мо равную"
   ]
  },
  {
   "cell_type": "code",
   "execution_count": 1013,
   "id": "de0e9228",
   "metadata": {},
   "outputs": [
    {
     "data": {
      "text/plain": [
       "0.9459"
      ]
     },
     "execution_count": 1013,
     "metadata": {},
     "output_type": "execute_result"
    }
   ],
   "source": [
    "ci_covers/10000 #ура норм"
   ]
  },
  {
   "cell_type": "markdown",
   "id": "fe9294f3",
   "metadata": {},
   "source": [
    "__(б)__"
   ]
  },
  {
   "cell_type": "markdown",
   "id": "f7042336",
   "metadata": {},
   "source": [
    "Теперь для стьюдента с 3 степенями свободы. Действия абсолютно аналогичные пункту (а)"
   ]
  },
  {
   "cell_type": "code",
   "execution_count": 1014,
   "id": "6e49496a",
   "metadata": {},
   "outputs": [],
   "source": [
    "sample_t_3 = np.random.standard_t(df = 3, size = (10000, 20))"
   ]
  },
  {
   "cell_type": "markdown",
   "id": "2e16bdd8",
   "metadata": {},
   "source": [
    "Асимптотический интервал:"
   ]
  },
  {
   "cell_type": "code",
   "execution_count": 1018,
   "id": "d9e65bb0",
   "metadata": {},
   "outputs": [],
   "source": [
    "intervals = np.array([sample_t_3.mean(axis = 1) - z * np.sqrt(np.var(sample_t_3, axis = 1, ddof = 1)/n), sample_t_3.mean(axis = 1) + z * np.sqrt(np.var(sample_t_3, axis = 1, ddof = 1)/n)]).T"
   ]
  },
  {
   "cell_type": "code",
   "execution_count": 1019,
   "id": "cce80176",
   "metadata": {},
   "outputs": [
    {
     "name": "stderr",
     "output_type": "stream",
     "text": [
      "100%|██████████| 10000/10000 [00:00<00:00, 627429.58it/s]\n"
     ]
    }
   ],
   "source": [
    "ci_covers = 0\n",
    "for i in tqdm(range(10000)):\n",
    "    if intervals[i][0] < 0 < intervals[i][1]:\n",
    "        ci_covers += 1"
   ]
  },
  {
   "cell_type": "markdown",
   "id": "4f1cfb95",
   "metadata": {},
   "source": [
    "Получил оценку вероятности накрытия действительного мо асимптотическим доверительным интервалом равную"
   ]
  },
  {
   "cell_type": "code",
   "execution_count": 1020,
   "id": "cd4485ce",
   "metadata": {},
   "outputs": [
    {
     "data": {
      "text/plain": [
       "0.942"
      ]
     },
     "execution_count": 1020,
     "metadata": {},
     "output_type": "execute_result"
    }
   ],
   "source": [
    "ci_covers/ 10000"
   ]
  },
  {
   "cell_type": "markdown",
   "id": "e3825c0f",
   "metadata": {},
   "source": [
    "Наивный бутстрап"
   ]
  },
  {
   "cell_type": "code",
   "execution_count": 1021,
   "id": "d2ee655a",
   "metadata": {},
   "outputs": [
    {
     "name": "stderr",
     "output_type": "stream",
     "text": [
      "100%|██████████| 10000/10000 [00:44<00:00, 226.23it/s]\n"
     ]
    }
   ],
   "source": [
    "np.random.seed(2)\n",
    "ci_covers = 0\n",
    "for i in tqdm(range(10000)):\n",
    "    X = sample_t_3[i]\n",
    "    bootstrapped_X = np.random.choice(X, size = (10000,20))\n",
    "    R_hat = bootstrapped_X.mean(axis = 1)\n",
    "    q_right = np.percentile(R_hat, 97.5)\n",
    "    q_left = np.percentile(R_hat, 2.5)\n",
    "    ci = [q_left, q_right]\n",
    "    if ci[0] < 0 < ci[1]:\n",
    "        ci_covers += 1"
   ]
  },
  {
   "cell_type": "markdown",
   "id": "b9f917e4",
   "metadata": {},
   "source": [
    "Оценка вероятности накрытия:"
   ]
  },
  {
   "cell_type": "code",
   "execution_count": 1022,
   "id": "886472b5",
   "metadata": {},
   "outputs": [
    {
     "data": {
      "text/plain": [
       "0.9183"
      ]
     },
     "execution_count": 1022,
     "metadata": {},
     "output_type": "execute_result"
    }
   ],
   "source": [
    "ci_covers/10000"
   ]
  },
  {
   "cell_type": "markdown",
   "id": "eeba1298",
   "metadata": {},
   "source": [
    "Бутстрап t-статистики"
   ]
  },
  {
   "cell_type": "code",
   "execution_count": 1023,
   "id": "6f27dec9",
   "metadata": {},
   "outputs": [
    {
     "name": "stderr",
     "output_type": "stream",
     "text": [
      "100%|██████████| 10000/10000 [01:00<00:00, 165.36it/s]\n"
     ]
    }
   ],
   "source": [
    "np.random.seed(9)\n",
    "ci_covers = 0\n",
    "for i in tqdm(range(10000)):\n",
    "    X = sample_t_3[i]\n",
    "    bootstrapped_X = np.random.choice(X, size = (10000, 20))\n",
    "    R_hat = (bootstrapped_X.mean(axis = 1) - X.mean())/(np.sqrt(bootstrapped_X.var(ddof = 1, axis = 1)/n))\n",
    "    q_right = np.percentile(R_hat, 97.5)\n",
    "    q_left = np.percentile(R_hat, 2.5)\n",
    "    ci = [X.mean() - q_right * np.sqrt(X.var(ddof = 1)/n), X.mean()- q_left * np.sqrt(X.var(ddof = 1)/n)]\n",
    "    if ci[0] < 0 < ci[1]:\n",
    "        ci_covers += 1"
   ]
  },
  {
   "cell_type": "markdown",
   "id": "7f2d7896",
   "metadata": {},
   "source": [
    "Оценка вероятности накрытия:"
   ]
  },
  {
   "cell_type": "code",
   "execution_count": 1024,
   "id": "46bead72",
   "metadata": {},
   "outputs": [
    {
     "data": {
      "text/plain": [
       "0.9259"
      ]
     },
     "execution_count": 1024,
     "metadata": {},
     "output_type": "execute_result"
    }
   ],
   "source": [
    "ci_covers/10000"
   ]
  },
  {
   "cell_type": "markdown",
   "id": "c691877f",
   "metadata": {},
   "source": [
    "__(в)__ Для экспоненциального распредления лучше всего показал себя бутстрап t-статистики, для t-распределения - обычный асимптотический интервал. Подозреваю, так вышло потому, что t расределение похоже на нормальное и довольно быстро к нему сходится при больших n."
   ]
  },
  {
   "cell_type": "markdown",
   "id": "99730e5e",
   "metadata": {},
   "source": [
    "__Задача 1__"
   ]
  },
  {
   "cell_type": "markdown",
   "id": "5159fb7b",
   "metadata": {},
   "source": [
    "__(а)__"
   ]
  },
  {
   "cell_type": "markdown",
   "id": "96e4d6de",
   "metadata": {},
   "source": [
    "Пусть $X$ - случайная величина, которая показывает, на каком заказе к туристу впервые приезжает уже возивший его таксист. $\\mathbb{P}(X\\geqslant 2) = 1$"
   ]
  },
  {
   "cell_type": "markdown",
   "id": "5ef13f9a",
   "metadata": {},
   "source": [
    "$$ \n",
    "\\mathbb{P}(X = 2) = \\frac{1}{n}\\\\\n",
    "\\mathbb{P}(X = 3) = \\frac{n-1}{n}\\cdot\\frac{2}{n}\\\\\n",
    "\\mathbb{P}(X = 4) = \\frac{n-1}{n}\\cdot\\frac{n-2}{n}\\cdot\\frac{3}{n}\\\\\n",
    "\\mathbb{P}(X = a) = \\frac{a-1}{n}\\cdot\\prod_{i=0}^{a-2}\\frac{n-i}{n}\n",
    "$$\n",
    "\n"
   ]
  },
  {
   "cell_type": "markdown",
   "id": "6520317d",
   "metadata": {},
   "source": [
    "Функция правдоподобия в задаче:\n",
    "$$\n",
    "L = \\mathbb{P}(X = 10) = \\frac{n-1}{n}\\cdot\\frac{n-2}{n}\\cdot\\ldots\\cdot\\frac{n-8}{n}\\cdot\\frac{9}{n} = \\frac{9(n-1)\\ldots(n-8)}{n^9}\n",
    "$$"
   ]
  },
  {
   "cell_type": "code",
   "execution_count": 1030,
   "id": "5ff2f16c",
   "metadata": {},
   "outputs": [],
   "source": [
    "def L_10(x):\n",
    "    L = 9 / x\n",
    "    for i in range(1, 9):\n",
    "        L *= (x - i)/ x\n",
    "    return L"
   ]
  },
  {
   "cell_type": "code",
   "execution_count": 1031,
   "id": "a90c6594",
   "metadata": {},
   "outputs": [],
   "source": [
    "ns = np.arange(9, 10000)"
   ]
  },
  {
   "cell_type": "code",
   "execution_count": 1032,
   "id": "c6c4bdba",
   "metadata": {},
   "outputs": [
    {
     "data": {
      "image/png": "[encoded data removed]",
      "text/plain": [
       "<Figure size 432x288 with 1 Axes>"
      ]
     },
     "metadata": {
      "needs_background": "light"
     },
     "output_type": "display_data"
    }
   ],
   "source": [
    "plt.plot(ns, L_10(ns))\n",
    "plt.xlabel('number of drivers')\n",
    "plt.ylabel('likelihood function')\n",
    "plt.title('Likelihood Function Depending on the Number of Taxi-Drivers');"
   ]
  },
  {
   "cell_type": "markdown",
   "id": "c81e3c46",
   "metadata": {},
   "source": [
    "Найдем ML-оценку"
   ]
  },
  {
   "cell_type": "markdown",
   "id": "768443b5",
   "metadata": {},
   "source": [
    "$$\n",
    "\\ln L = \\ln 9 + \\ln(n-1) + \\ln(n-2)+\\ldots +\\ln(n-8) -9\\ln n \\longrightarrow\\underset{n}\\max\\\\\n",
    "\\frac{\\partial\\ln L}{\\partial n} = \\frac{1}{\\hat n - 1}+\\ldots+\\frac{1}{\\hat n - 8}-\\frac{9}{\\hat n}= 0\\\\\n",
    "$$\n"
   ]
  },
  {
   "cell_type": "markdown",
   "id": "f5505b1f",
   "metadata": {},
   "source": [
    "Получится многочлен 8-й степени. Ручками такое не решится. Визуально, заметно, что функция имеет один максимум; $\\lim_{n\\rightarrow\\inf} L(n) = 0$, Попробуем перебрать все целые $n$ от 9 до 10000."
   ]
  },
  {
   "cell_type": "code",
   "execution_count": 1033,
   "id": "a86ddf05",
   "metadata": {},
   "outputs": [
    {
     "name": "stdout",
     "output_type": "stream",
     "text": [
      "42\n"
     ]
    }
   ],
   "source": [
    "max_L = -1\n",
    "arg_max_L = -1\n",
    "for n in range(9, 10001):\n",
    "    L = L_10(n)\n",
    "    if L > max_L:\n",
    "        max_L = L\n",
    "        arg_max_L = n\n",
    "print(arg_max_L)"
   ]
  },
  {
   "cell_type": "markdown",
   "id": "a1d922d1",
   "metadata": {},
   "source": [
    "$\\hat n_{ml}=42$"
   ]
  },
  {
   "cell_type": "markdown",
   "id": "c0fd3101",
   "metadata": {},
   "source": [
    "__(б)__"
   ]
  },
  {
   "cell_type": "code",
   "execution_count": 1034,
   "id": "1b34197e",
   "metadata": {},
   "outputs": [],
   "source": [
    "def expectation_taxi(n):\n",
    "    expect = 0\n",
    "    for i in range(2, n + 2):\n",
    "        prod = 1\n",
    "        for j in range(i - 1):\n",
    "            prod *= (n - j)/n\n",
    "        expect += i * (i-1) * prod / n\n",
    "    return expect"
   ]
  },
  {
   "cell_type": "markdown",
   "id": "bb5fa4fa",
   "metadata": {},
   "source": [
    "Математическое ожидание в зависимости от $n$:"
   ]
  },
  {
   "cell_type": "markdown",
   "id": "0c9d9e25",
   "metadata": {},
   "source": [
    "$$\n",
    "\\mathbb{E}X = \\sum_{a = 2}^{n + 1}a * \\mathbb{P}(X = a) = \\sum_{a = 2}^{n + 1} a *\\frac{a-1}{n}\\cdot\\prod_{i=0}^{a-2}\\frac{n-i}{n}\n",
    "$$\n"
   ]
  },
  {
   "cell_type": "code",
   "execution_count": 1035,
   "id": "d8e2b127",
   "metadata": {},
   "outputs": [],
   "source": [
    "ns = np.arange(100)"
   ]
  },
  {
   "cell_type": "code",
   "execution_count": 1036,
   "id": "f52ff58c",
   "metadata": {},
   "outputs": [],
   "source": [
    "expectations = np.array([])\n",
    "for n in ns:\n",
    "    expectations = np.append(expectations, expectation_taxi(n))"
   ]
  },
  {
   "cell_type": "code",
   "execution_count": 1037,
   "id": "2895fc4b",
   "metadata": {},
   "outputs": [
    {
     "data": {
      "image/png": "[encoded data removed]",
      "text/plain": [
       "<Figure size 432x288 with 1 Axes>"
      ]
     },
     "metadata": {
      "needs_background": "light"
     },
     "output_type": "display_data"
    }
   ],
   "source": [
    "plt.plot(ns, expectations);\n",
    "plt.xlabel('number of drivers')\n",
    "plt.ylabel('expectation')\n",
    "plt.title('Expectation of the First Second-Time-Driving Depending on n');"
   ]
  },
  {
   "cell_type": "markdown",
   "id": "7bcf08ef",
   "metadata": {},
   "source": [
    "Выборочный момент: $\\bar X = X_1 = 10$ (у нас одно наблюдение)"
   ]
  },
  {
   "cell_type": "markdown",
   "id": "9231da2f",
   "metadata": {},
   "source": [
    "Судя по картинке, матожидание монотонно возрастает в зависимости от $n$ (что логично), поэтому переберем циклом разные n."
   ]
  },
  {
   "cell_type": "code",
   "execution_count": 1040,
   "id": "646670a0",
   "metadata": {},
   "outputs": [],
   "source": [
    "mse = np.array([])\n",
    "for i in range(0,100):\n",
    "    mse = np.append(mse, (expectations[i] - 10) ** 2)"
   ]
  },
  {
   "cell_type": "markdown",
   "id": "c2253947",
   "metadata": {},
   "source": [
    "Тогда ближайший n, к целочисленной оценке методом моментов:"
   ]
  },
  {
   "cell_type": "code",
   "execution_count": 1041,
   "id": "933c8a47",
   "metadata": {},
   "outputs": [
    {
     "data": {
      "text/plain": [
       "55"
      ]
     },
     "execution_count": 1041,
     "metadata": {},
     "output_type": "execute_result"
    }
   ],
   "source": [
    "ns[mse.argmin()]"
   ]
  },
  {
   "cell_type": "markdown",
   "id": "cf58127c",
   "metadata": {},
   "source": [
    "$\\hat n_{mm} = 55$"
   ]
  },
  {
   "cell_type": "markdown",
   "id": "b97d37b9",
   "metadata": {},
   "source": [
    "__(в)__"
   ]
  },
  {
   "cell_type": "markdown",
   "id": "4eb7cd80",
   "metadata": {},
   "source": [
    "напишем функцию правдоподобия в общем случае"
   ]
  },
  {
   "cell_type": "markdown",
   "id": "2daef742",
   "metadata": {},
   "source": [
    "$$\n",
    "L = \\mathbb{P}(X = a) = \\frac{a - 1}{n}\\cdot\\prod_{i = 0}^{a -2}\\frac{n - i}{n}\n",
    "$$"
   ]
  },
  {
   "cell_type": "code",
   "execution_count": 1042,
   "id": "e7796d0f",
   "metadata": {},
   "outputs": [],
   "source": [
    "def Likelihood(a: int, n: int):\n",
    "    L = (a - 1)/n\n",
    "    prod = 1\n",
    "    for i in range(a - 1):\n",
    "        prod *= (n - i) / n\n",
    "    L *= prod\n",
    "    return L"
   ]
  },
  {
   "cell_type": "markdown",
   "id": "399caa20",
   "metadata": {},
   "source": [
    "Всего 100 таксистов, значит на 101 заказе точно будет хотя бы одно повторение."
   ]
  },
  {
   "cell_type": "code",
   "execution_count": 1043,
   "id": "979e19f7",
   "metadata": {},
   "outputs": [],
   "source": [
    "drivers = np.arange(1,101)"
   ]
  },
  {
   "cell_type": "markdown",
   "id": "b385808f",
   "metadata": {},
   "source": [
    "минимум функции правдоподобия я ищу перебирая все значения для $\\hat n_ml$ от номера заказа, на котором впервые приехал уже возивший таксист - 1  $(taxi_n - 1)$, до $taxi_n \\cdot 100$. В худшей ситуации (когда только на 101 заказе приедет старый таксист), график функции правдоподобия в зависимости от $n$ будет таким:"
   ]
  },
  {
   "cell_type": "code",
   "execution_count": 1218,
   "id": "3bad5b1f",
   "metadata": {},
   "outputs": [
    {
     "data": {
      "image/png": "[encoded data removed]",
      "text/plain": [
       "<Figure size 432x288 with 1 Axes>"
      ]
     },
     "metadata": {
      "needs_background": "light"
     },
     "output_type": "display_data"
    }
   ],
   "source": [
    "plt.plot(np.arange(100, 10000),Likelihood(101, np.arange(100, 10000)));\n",
    "plt.xlabel('number of drivers')\n",
    "plt.ylabel('likelihood function');"
   ]
  },
  {
   "cell_type": "markdown",
   "id": "831a90a7",
   "metadata": {},
   "source": [
    "т.е ml оценка найдется!"
   ]
  },
  {
   "cell_type": "markdown",
   "id": "dfcfc357",
   "metadata": {},
   "source": [
    "Для нахождения mm-оценки, я считаю среднеквадратичные ошибки матожидания от среднего для $n$ от $taxi_n -1$ до $taxi_n \\cdot 100$. я останавливаю цикл, как только ошибка начинает возрастать."
   ]
  },
  {
   "cell_type": "markdown",
   "id": "9440d19b",
   "metadata": {},
   "source": [
    "Эта функция считает оптимальные mm и ml оценки "
   ]
  },
  {
   "cell_type": "code",
   "execution_count": 818,
   "id": "078085d4",
   "metadata": {},
   "outputs": [
    {
     "name": "stderr",
     "output_type": "stream",
     "text": [
      "100%|██████████| 10000/10000 [1:41:40<00:00,  1.64it/s] \n"
     ]
    }
   ],
   "source": [
    "np.random.seed(986)\n",
    "ml_estimates = []\n",
    "mm_estimates = []\n",
    "for g in tqdm(range(10000)):\n",
    "    observation = np.array([])\n",
    "    for i in range(101):\n",
    "        taxi = np.random.choice(drivers)\n",
    "        if taxi in observation:\n",
    "            break\n",
    "        else:\n",
    "            observation = np.append(observation, taxi)\n",
    "    taxi_n = observation.shape[0] + 1\n",
    "    ns_ml =  np.arange(taxi_n - 1, taxi_n * 100)\n",
    "    Ls = Likelihood(a = taxi_n, n = ns_ml)\n",
    "    n_ml = ns_ml[Ls.argmax()]\n",
    "    ns_mm = np.arange(taxi_n - 1, taxi_n * 100)\n",
    "    mse = np.array([])\n",
    "    for i, j in enumerate(ns_mm):\n",
    "        mse = np.append(mse, np.power(expectation_taxi(j) - taxi_n, 2))\n",
    "        if i == 0:\n",
    "            continue\n",
    "        if mse[i] > mse[i - 1]:\n",
    "            break\n",
    "    n_mm = ns_mm[mse.argmin()]\n",
    "    ml_estimates.append(n_ml)\n",
    "    mm_estimates.append(n_mm)"
   ]
  },
  {
   "cell_type": "code",
   "execution_count": 839,
   "id": "8d06b430",
   "metadata": {},
   "outputs": [],
   "source": [
    "ml_estimates= np.array(ml_estimates)\n",
    "mm_estimates = np.array(mm_estimates)"
   ]
  },
  {
   "cell_type": "code",
   "execution_count": 836,
   "id": "e2d8587b",
   "metadata": {},
   "outputs": [
    {
     "data": {
      "image/png": "[encoded data removed]",
      "text/plain": [
       "<Figure size 432x288 with 1 Axes>"
      ]
     },
     "metadata": {
      "needs_background": "light"
     },
     "output_type": "display_data"
    }
   ],
   "source": [
    "plt.hist(ml_estimates, bins = 30);\n",
    "plt.xlabel('ml-estimate of the number of drivers')\n",
    "plt.ylabel('count')\n",
    "plt.title('Distribution of the ML-estimates');"
   ]
  },
  {
   "cell_type": "markdown",
   "id": "c89dff59",
   "metadata": {},
   "source": [
    "Оценка смещения ml-оценки:"
   ]
  },
  {
   "cell_type": "code",
   "execution_count": 841,
   "id": "4a4b8672",
   "metadata": {},
   "outputs": [
    {
     "data": {
      "text/plain": [
       "-4.340000000000003"
      ]
     },
     "execution_count": 841,
     "metadata": {},
     "output_type": "execute_result"
    }
   ],
   "source": [
    "ml_estimates.mean() - 100"
   ]
  },
  {
   "cell_type": "markdown",
   "id": "fdaf131c",
   "metadata": {},
   "source": [
    "Оценка дисперсии ml-оценки:"
   ]
  },
  {
   "cell_type": "code",
   "execution_count": 842,
   "id": "1941cbdc",
   "metadata": {},
   "outputs": [
    {
     "data": {
      "text/plain": [
       "8283.447744774478"
      ]
     },
     "execution_count": 842,
     "metadata": {},
     "output_type": "execute_result"
    }
   ],
   "source": [
    "ml_estimates.var(ddof = 1)"
   ]
  },
  {
   "cell_type": "markdown",
   "id": "91c38e75",
   "metadata": {},
   "source": [
    "Среднеквадратичная ошибка ml-оценки"
   ]
  },
  {
   "cell_type": "code",
   "execution_count": 913,
   "id": "f5420988",
   "metadata": {},
   "outputs": [
    {
     "data": {
      "text/plain": [
       "8301.455"
      ]
     },
     "execution_count": 913,
     "metadata": {},
     "output_type": "execute_result"
    }
   ],
   "source": [
    "np.sum((ml_estimates - 100) ** 2)/10000"
   ]
  },
  {
   "cell_type": "code",
   "execution_count": 838,
   "id": "c432ac60",
   "metadata": {},
   "outputs": [
    {
     "data": {
      "image/png": "[encoded data removed]",
      "text/plain": [
       "<Figure size 432x288 with 1 Axes>"
      ]
     },
     "metadata": {
      "needs_background": "light"
     },
     "output_type": "display_data"
    }
   ],
   "source": [
    "plt.hist(mm_estimates, bins = 30);\n",
    "plt.xlabel('mm-estimate of the number of drivers')\n",
    "plt.ylabel('count')\n",
    "plt.title('Distribution of the MM-estimates');"
   ]
  },
  {
   "cell_type": "markdown",
   "id": "a5df7272",
   "metadata": {},
   "source": [
    "Оценка смещения mm-оценки:"
   ]
  },
  {
   "cell_type": "code",
   "execution_count": 844,
   "id": "b1a7e9c0",
   "metadata": {},
   "outputs": [
    {
     "data": {
      "text/plain": [
       "24.783900000000003"
      ]
     },
     "execution_count": 844,
     "metadata": {},
     "output_type": "execute_result"
    }
   ],
   "source": [
    "mm_estimates.mean() - 100"
   ]
  },
  {
   "cell_type": "markdown",
   "id": "69c53d7f",
   "metadata": {},
   "source": [
    "Оценка дисперсии mm-оценки:"
   ]
  },
  {
   "cell_type": "code",
   "execution_count": 845,
   "id": "7bd382fc",
   "metadata": {
    "scrolled": true
   },
   "outputs": [
    {
     "data": {
      "text/plain": [
       "13726.45604639464"
      ]
     },
     "execution_count": 845,
     "metadata": {},
     "output_type": "execute_result"
    }
   ],
   "source": [
    "mm_estimates.var(ddof = 1)"
   ]
  },
  {
   "cell_type": "markdown",
   "id": "0c4fa58b",
   "metadata": {},
   "source": [
    "Среднеквадратичная ошибка mm-оценки:"
   ]
  },
  {
   "cell_type": "code",
   "execution_count": 1175,
   "id": "0d158bec",
   "metadata": {},
   "outputs": [
    {
     "data": {
      "text/plain": [
       "14339.3251"
      ]
     },
     "execution_count": 1175,
     "metadata": {},
     "output_type": "execute_result"
    }
   ],
   "source": [
    "np.sum((mm_estimates - 100) ** 2)/10000"
   ]
  },
  {
   "cell_type": "markdown",
   "id": "1b7aa174",
   "metadata": {},
   "source": [
    "__Задача 2__"
   ]
  },
  {
   "cell_type": "markdown",
   "id": "a80235c2",
   "metadata": {},
   "source": [
    "__(a)__ Пусть $X$ - случайная величина, которая равняется количеству уникальных имен таксистов. Сначала рассмотрим более простой случай. Допустим, делается 6 заказов, за которые мы встречаем 3 уникальных имен таксистов (всего таксистов n). Тогда"
   ]
  },
  {
   "cell_type": "markdown",
   "id": "84d6b2f3",
   "metadata": {},
   "source": [
    "$$\n",
    "\\mathbb{P}_6(X = 3) = \\frac{1}{n}\\cdot\\frac{1}{n}\\cdot\\frac{1}{n}\\cdot\\frac{n-1}{n}\\cdot\\frac{n-2}{n} + \\frac{1}{n}\\cdot\\frac{1}{n}\\cdot\\frac{n-1}{n}\\cdot\\frac{2}{n}\\cdot\\frac{n-2}{n} +\\\\+ \\frac{1}{n}\\cdot\\frac{1}{n}\\frac{n-1}{n}\\cdot\\frac{n-2}{n}\\cdot\\frac{3}{n}+\\frac{1}{n}\\cdot\\frac{n-1}{n}\\cdot\\frac{2}{n}\\cdot\\frac{2}{n}\\cdot\\frac{n-2}{n} +\\\\+\\frac{1}{n}\\cdot\\frac{n-1}{n}\\cdot\\frac{2}{n}\\cdot\\frac{n-2}{n}\\cdot\\frac{3}{n}+\\frac{1}{n}\\cdot\\frac{n-1}{n}\\cdot\\frac{n-2}{n}\\cdot\\frac{3}{n}\\cdot\\frac{3}{n} +\\\\+\\frac{n-1}{n}\\cdot\\frac{2}{n}\\cdot\\frac{2}{n}\\cdot\\frac{2}{n}\\cdot\\frac{n-2}{n}+\\frac{n-1}{n}\\cdot\\frac{2}{n}\\cdot\\frac{2}{n}\\cdot\\frac{n-2}{n}\\cdot\\frac{3}{n} +\\\\+\\frac{n-1}{n}\\cdot\\frac{2}{n}\\cdot\\frac{n-2}{n}\\cdot\\frac{3}{n}\\cdot\\frac{3}{n}+\\frac{n-1}{n}\\cdot\\frac{n-2}{n}\\cdot\\frac{3}{n}\\cdot\\frac{3}{n}\\cdot\\frac{3}{n}\n",
    "$$"
   ]
  },
  {
   "cell_type": "markdown",
   "id": "b36171d9",
   "metadata": {},
   "source": [
    "Что происходит выше?"
   ]
  },
  {
   "cell_type": "markdown",
   "id": "4353c4b5",
   "metadata": {},
   "source": [
    "Для любого количества заказов больше одного, вероятность встретить больше либо одного имени равна единице. Каждое новое имя добавляет в вероятность $\\frac{n-i}{n}$, где $i$ - номер нового имени (первое имя считаем за 0). Но так как за $a$ заказов может быть $k<a$ имен, необходимо учесть тот факт, что одни и те же таксисты могут приехжеть несколько раз. Возьмем базовую формулу для $k$ имен:"
   ]
  },
  {
   "cell_type": "markdown",
   "id": "4c9bfaa4",
   "metadata": {},
   "source": [
    "$$\n",
    "\\frac{n-1}{n}\\cdot\\frac{n-2}{n}\\cdot\\ldots\\cdot\\frac{n - k + 1}{n}\n",
    "$$"
   ]
  },
  {
   "cell_type": "markdown",
   "id": "edc1f070",
   "metadata": {},
   "source": [
    "Если имен $k<a$ заказов, необходимо просуммировать такие \"базовые\" формулы, добавляя между ними множители $\\frac{i}{n}$, где i определяется позицией множителя (интерпретация этого множителя состоит в количестве повторений $i$ имен к моменту данного заказа). Т.е, если $\\frac{i}{n}$ стоит перед множителем $\\frac{n-1}{n}$, (тогда $i=1$), то это означает, что самый первый водитель приехал два раза, а затем уже приехал второй и т.д. Если же множитель $\\frac{i}{n}$ (тогда $i=2$) стоит перед $\\frac{n-2}{n}$, то это означает, что на третий заказ приехал либо первый, либо второй таксист. Всего множителей вида $\\frac{i}{n}$ будет $a - k$ штук. А количество слагаемых в формуле вероятности: $C_{k+ a-k-1}^{a-k}=C_{a-1}^{a-k}$, (сочетания с возвращениями). Почему сочетания? \n",
    "\n",
    "По-факту мы пытаемся разными способами разложить $a-k$ слагаемых вида $\\frac{i}{n}$ по $k$ \"корзинам\". "
   ]
  },
  {
   "cell_type": "markdown",
   "id": "9e633bbd",
   "metadata": {},
   "source": [
    "У $\\mathbb{P}_{10}(X=6)$ можно вынести за скобки $\\frac{(n-1)\\cdot(n-2)\\cdot\\ldots\\cdot(n-5)}{n^9}$, в скобках же останется сумма чисел, находящихся в числителях каждого из слагаемых (всего слагаемых будет $C_{9}^4=126$). можно разделить полученную вероятность на эту константу, тогда останется только функция от $n$, в силу монотонного характера преобразования максимум у нее не поменяется. Тогда монотонно-преобразованная функция правдоподобия:"
   ]
  },
  {
   "cell_type": "markdown",
   "id": "d585184b",
   "metadata": {},
   "source": [
    "$$\n",
    "L = \\frac{(n-1)\\cdot(n-2)\\cdot(n-3)\\cdot(n-4)\\cdot(n-5)}{n^9}\\\\\n",
    "\\ln L = \\ln(n-1)+\\ln(n-2)+\\ln(n-3)+\\ln(n-4)+\\ln(n-5) - 9\\ln n\n",
    "$$"
   ]
  },
  {
   "cell_type": "markdown",
   "id": "069fdd66",
   "metadata": {},
   "source": [
    "Опять таки, очень сложно аналитически найти решение для такой задачи, поэтому будем перебирать все возможные целые $n$."
   ]
  },
  {
   "cell_type": "code",
   "execution_count": 1219,
   "id": "bbc45292",
   "metadata": {},
   "outputs": [],
   "source": [
    "def likelihood_6(n):\n",
    "    L = 1 / (n ** 4)\n",
    "    for i in range(6):\n",
    "        L *= (n-i) / n\n",
    "    return L"
   ]
  },
  {
   "cell_type": "code",
   "execution_count": 1220,
   "id": "22b8bf8b",
   "metadata": {},
   "outputs": [],
   "source": [
    "ns = np.arange(6,100)"
   ]
  },
  {
   "cell_type": "code",
   "execution_count": 1221,
   "id": "e2dd6a35",
   "metadata": {},
   "outputs": [
    {
     "data": {
      "image/png": "[encoded data removed]",
      "text/plain": [
       "<Figure size 432x288 with 1 Axes>"
      ]
     },
     "metadata": {
      "needs_background": "light"
     },
     "output_type": "display_data"
    }
   ],
   "source": [
    "plt.plot(ns, likelihood_6(ns));\n",
    "plt.xlabel('number of names')\n",
    "plt.ylabel('transformed likelihood');"
   ]
  },
  {
   "cell_type": "markdown",
   "id": "b59b4ba2",
   "metadata": {},
   "source": [
    "Аналагично задаче 1, переберем ручками возможные n, чтобы найти такое, при котором функция правдоподобия принимает максимальное значение."
   ]
  },
  {
   "cell_type": "code",
   "execution_count": 1222,
   "id": "9651c947",
   "metadata": {},
   "outputs": [],
   "source": [
    "max_L = -1\n",
    "arg_max_L = -1\n",
    "for n in range(6, 10000):\n",
    "    if likelihood_6(n) > max_L:\n",
    "        max_L = likelihood_6(n)\n",
    "        arg_max_L = n"
   ]
  },
  {
   "cell_type": "markdown",
   "id": "6fcbccac",
   "metadata": {},
   "source": [
    "Получаем"
   ]
  },
  {
   "cell_type": "code",
   "execution_count": 1223,
   "id": "c860c4e9",
   "metadata": {},
   "outputs": [
    {
     "data": {
      "text/plain": [
       "8"
      ]
     },
     "execution_count": 1223,
     "metadata": {},
     "output_type": "execute_result"
    }
   ],
   "source": [
    "arg_max_L"
   ]
  },
  {
   "cell_type": "markdown",
   "id": "7ba98582",
   "metadata": {},
   "source": [
    "Следовательно, $\\hat n_{ml} = 8$"
   ]
  },
  {
   "cell_type": "markdown",
   "id": "141f9881",
   "metadata": {},
   "source": [
    "__(б)__ Я написал функцию, которая считает количества имен таксистов для 10 поездок для заданного $n$"
   ]
  },
  {
   "cell_type": "code",
   "execution_count": 1394,
   "id": "dc2095fa",
   "metadata": {},
   "outputs": [],
   "source": [
    "from itertools import combinations, combinations_with_replacement"
   ]
  },
  {
   "cell_type": "code",
   "execution_count": 1458,
   "id": "c91d80af",
   "metadata": {},
   "outputs": [
    {
     "data": {
      "text/plain": [
       "[1.0, 511.0, 9330.0, 34105.0, 42525.0, 22827.0, 5880.0, 750.0, 45.0, 1.0]"
      ]
     },
     "execution_count": 1458,
     "metadata": {},
     "output_type": "execute_result"
    }
   ],
   "source": [
    "term_coefs = [] # этот кусок по-факту является частью функции, считающей матожидания, но вместе с ним она отрабатывала слишком \n",
    "for i in range(1, 11): #долго, поэтому я вытащил ее, и просто вставил полученные коэффициенты в следующую ячейку\n",
    "    base = np.arange(1, i + 1)\n",
    "    comb = set()\n",
    "    coef_sum = 0 \n",
    "    to_combinations = np.arange(1, 10 - i + 1)\n",
    "    to_combinations = np.append(to_combinations, np.zeros(10 - to_combinations.shape[0]))\n",
    "    for j in combinations_with_replacement(to_combinations, i):\n",
    "        if sum(j) == 10 - i:\n",
    "            comb.add(j)\n",
    "    for a in comb:\n",
    "        if type(a) == int:\n",
    "            a = [a]\n",
    "        permuted = np.array(list(set(permutations(a, i))))\n",
    "        coefs = np.prod(base ** permuted, axis = 1)\n",
    "        coef_sum += coefs.sum()\n",
    "    term_coefs.append(coef_sum)\n",
    "term_coefs"
   ]
  },
  {
   "cell_type": "code",
   "execution_count": 1647,
   "id": "7bfcf6ef",
   "metadata": {},
   "outputs": [],
   "source": [
    "def expectation_10(n):\n",
    "    expect = 0\n",
    "    expect = 0\n",
    "    term_coefs = [1.0, 511.0, 9330.0, 34105.0, 42525.0, 22827.0, 5880.0, 750.0, 45.0, 1.0] #это посчиталось в пред. ячейке\n",
    "    for i in range(1, 11):\n",
    "        base_P = 1  / (n **(10 - i))\n",
    "        for k in range(1, i + 1):\n",
    "            base_P *= (n - k + 1)/n\n",
    "        expect += i * term_coefs[i - 1] * base_P\n",
    "    return expect"
   ]
  },
  {
   "cell_type": "code",
   "execution_count": 1648,
   "id": "8cd92151",
   "metadata": {},
   "outputs": [
    {
     "data": {
      "text/plain": [
       "8.025261215232423"
      ]
     },
     "execution_count": 1648,
     "metadata": {},
     "output_type": "execute_result"
    }
   ],
   "source": [
    "expectation_10(20)"
   ]
  },
  {
   "cell_type": "code",
   "execution_count": 1649,
   "id": "387bb807",
   "metadata": {},
   "outputs": [
    {
     "data": {
      "text/plain": [
       "7.608632399220369"
      ]
     },
     "execution_count": 1649,
     "metadata": {},
     "output_type": "execute_result"
    }
   ],
   "source": [
    "expectation_10(16)"
   ]
  },
  {
   "cell_type": "code",
   "execution_count": 1650,
   "id": "bf549edf",
   "metadata": {},
   "outputs": [
    {
     "name": "stderr",
     "output_type": "stream",
     "text": [
      "100%|██████████| 99/99 [00:00<?, ?it/s]\n"
     ]
    }
   ],
   "source": [
    "expectations = []\n",
    "for n in tqdm(range(1, 100)):\n",
    "    x = expectation_10(n)\n",
    "    expectations.append(x)"
   ]
  },
  {
   "cell_type": "code",
   "execution_count": 1456,
   "id": "9d85b3b1",
   "metadata": {},
   "outputs": [
    {
     "data": {
      "image/png": "[encoded data removed]",
      "text/plain": [
       "<Figure size 432x288 with 1 Axes>"
      ]
     },
     "metadata": {
      "needs_background": "light"
     },
     "output_type": "display_data"
    }
   ],
   "source": [
    "plt.plot(list(range(1,100)), expectations)\n",
    "plt.xlabel('unique_names')\n",
    "plt.ylabel('expectation')\n",
    "plt.title('Mathematical Expectation Depending on the Nuber of Unique Names');"
   ]
  },
  {
   "cell_type": "markdown",
   "id": "d357d185",
   "metadata": {},
   "source": [
    "Найдем оценку $\\hat n$ методом моментов."
   ]
  },
  {
   "cell_type": "markdown",
   "id": "49ba5c4f",
   "metadata": {},
   "source": [
    "У нас есть одно наблюдение, следовательно выборочное среднее: $\\bar X = X_1 = 6$. Метод моментов:"
   ]
  },
  {
   "cell_type": "markdown",
   "id": "c929d421",
   "metadata": {},
   "source": [
    "$$\n",
    "\\mathbb{E}[X] |_{n=\\hat n}= \\bar X \n",
    "$$"
   ]
  },
  {
   "cell_type": "markdown",
   "id": "5450fc92",
   "metadata": {},
   "source": [
    "Переберем различные целочисленные $\\hat n$, и возьмем такое, при котором отклонение среднего от матожидания минимально. Матожидание монотонно возрастает."
   ]
  },
  {
   "cell_type": "code",
   "execution_count": 1463,
   "id": "6116f71c",
   "metadata": {},
   "outputs": [],
   "source": [
    "mse_all = []\n",
    "for n in range(1, 30):\n",
    "    mse = (6 - expectation_10(n)) ** 2\n",
    "    mse_all.append(mse)"
   ]
  },
  {
   "cell_type": "code",
   "execution_count": 1466,
   "id": "df3036ca",
   "metadata": {},
   "outputs": [
    {
     "data": {
      "text/plain": [
       "8"
      ]
     },
     "execution_count": 1466,
     "metadata": {},
     "output_type": "execute_result"
    }
   ],
   "source": [
    "np.argmin(np.array(mse_all)) + 1 #поправляем на индексацию с нуля"
   ]
  },
  {
   "cell_type": "markdown",
   "id": "e1f2004f",
   "metadata": {},
   "source": [
    "Получается оценка методом моментов:"
   ]
  },
  {
   "cell_type": "markdown",
   "id": "6b117f5f",
   "metadata": {},
   "source": [
    "$$\n",
    "\\hat n_{mm} = 8\n",
    "$$"
   ]
  },
  {
   "cell_type": "markdown",
   "id": "d69b9565",
   "metadata": {},
   "source": [
    "__(в)__"
   ]
  },
  {
   "cell_type": "code",
   "execution_count": 1487,
   "id": "ce56ac81",
   "metadata": {},
   "outputs": [
    {
     "data": {
      "text/plain": [
       "(20,)"
      ]
     },
     "execution_count": 1487,
     "metadata": {},
     "output_type": "execute_result"
    }
   ],
   "source": [
    "names = np.arange(1, 21)\n",
    "names.shape"
   ]
  },
  {
   "cell_type": "code",
   "execution_count": 1488,
   "id": "8fb1a73c",
   "metadata": {},
   "outputs": [],
   "source": [
    "np.random.seed(767)\n",
    "samples = np.random.choice(names, size = (10000, 10))"
   ]
  },
  {
   "cell_type": "markdown",
   "id": "67e32015",
   "metadata": {},
   "source": [
    "надо написать функцию правдоподобия для разных $n_{observed}$. Опять же, функция ниже является монотонным преобразованием действительной функции правдоподобия."
   ]
  },
  {
   "cell_type": "code",
   "execution_count": 1507,
   "id": "79e1749e",
   "metadata": {},
   "outputs": [],
   "source": [
    "def likelihood_names(names, n):\n",
    "    base_P = 1  / (n **(10 - names))\n",
    "    for k in range(1, names + 1):\n",
    "        base_P *= (n - k + 1)/n\n",
    "    return base_P"
   ]
  },
  {
   "cell_type": "code",
   "execution_count": 1534,
   "id": "e41b1104",
   "metadata": {},
   "outputs": [
    {
     "name": "stderr",
     "output_type": "stream",
     "text": [
      "100%|██████████| 10000/10000 [00:14<00:00, 709.83it/s]\n"
     ]
    }
   ],
   "source": [
    "ml_names = []\n",
    "\n",
    "for sample in tqdm(samples):\n",
    "    observed_n = np.unique(sample).shape[0]\n",
    "    if observed_n == 10: # в этом случае оценка стремится к бесконечности\n",
    "        ml_names.append(100) \n",
    "        continue\n",
    "    max_L = -1\n",
    "    arg_max_L = -1\n",
    "    for n in range(observed_n, 1000):\n",
    "        L = likelihood_names(observed_n, n)\n",
    "        if L > max_L:\n",
    "            max_L = L\n",
    "            arg_max_L = n\n",
    "    ml_names.append(arg_max_L)"
   ]
  },
  {
   "cell_type": "code",
   "execution_count": 1654,
   "id": "17558e04",
   "metadata": {},
   "outputs": [
    {
     "data": {
      "image/png": "[encoded data removed]",
      "text/plain": [
       "<Figure size 432x288 with 1 Axes>"
      ]
     },
     "metadata": {
      "needs_background": "light"
     },
     "output_type": "display_data"
    }
   ],
   "source": [
    "plt.hist(ml_names, bins = 15);\n",
    "plt.xlabel('ml-estimate of the number of names')\n",
    "plt.ylabel('count')\n",
    "plt.title('Distribution of the ML-estimates');"
   ]
  },
  {
   "cell_type": "code",
   "execution_count": 1548,
   "id": "f93679a9",
   "metadata": {},
   "outputs": [],
   "source": [
    "ml_names = np.array(ml_names)"
   ]
  },
  {
   "cell_type": "markdown",
   "id": "3d2a31be",
   "metadata": {},
   "source": [
    "Оценка смещения ml-оценки"
   ]
  },
  {
   "cell_type": "code",
   "execution_count": 1549,
   "id": "55de9808",
   "metadata": {},
   "outputs": [
    {
     "data": {
      "text/plain": [
       "8.0019"
      ]
     },
     "execution_count": 1549,
     "metadata": {},
     "output_type": "execute_result"
    }
   ],
   "source": [
    "ml_names.mean() - 20"
   ]
  },
  {
   "cell_type": "markdown",
   "id": "e10cf84e",
   "metadata": {},
   "source": [
    "Оценка диспресии ml-оценки"
   ]
  },
  {
   "cell_type": "code",
   "execution_count": 1550,
   "id": "f6810ab0",
   "metadata": {},
   "outputs": [
    {
     "data": {
      "text/plain": [
       "499.7424706370637"
      ]
     },
     "execution_count": 1550,
     "metadata": {},
     "output_type": "execute_result"
    }
   ],
   "source": [
    "ml_names.var(ddof = 1)"
   ]
  },
  {
   "cell_type": "markdown",
   "id": "4124f202",
   "metadata": {},
   "source": [
    "Оценка среднеквадратичного отклонения ml-оценки"
   ]
  },
  {
   "cell_type": "code",
   "execution_count": 1552,
   "id": "f50750d4",
   "metadata": {},
   "outputs": [
    {
     "data": {
      "text/plain": [
       "563.7229"
      ]
     },
     "execution_count": 1552,
     "metadata": {},
     "output_type": "execute_result"
    }
   ],
   "source": [
    "np.sum((ml_names - 20) ** 2) / 10000"
   ]
  },
  {
   "cell_type": "markdown",
   "id": "92774569",
   "metadata": {},
   "source": [
    "Теперь для моментов"
   ]
  },
  {
   "cell_type": "code",
   "execution_count": 1641,
   "id": "f123e970",
   "metadata": {},
   "outputs": [
    {
     "data": {
      "text/plain": [
       "(10000, 10)"
      ]
     },
     "execution_count": 1641,
     "metadata": {},
     "output_type": "execute_result"
    }
   ],
   "source": [
    "samples.shape"
   ]
  },
  {
   "cell_type": "code",
   "execution_count": 1651,
   "id": "a9a33c72",
   "metadata": {},
   "outputs": [
    {
     "name": "stderr",
     "output_type": "stream",
     "text": [
      "100%|██████████| 10000/10000 [00:03<00:00, 3320.23it/s]\n"
     ]
    }
   ],
   "source": [
    "mm_names = []\n",
    "\n",
    "for sample in tqdm(samples):\n",
    "    observed_n = np.unique(sample).shape[0]\n",
    "    if observed_n == 10: # в этом случае оценка стремится к бесконечности\n",
    "        mm_names.append(100) \n",
    "        continue\n",
    "    mse_list = []\n",
    "    for i in range(1, 101):\n",
    "        mse = (expectation_10(i) - observed_n) ** 2\n",
    "        mse_list.append(mse)\n",
    "        if i == 1:\n",
    "            continue\n",
    "        if mse_list[i -1] > mse_list[i - 2]:\n",
    "            break\n",
    "    mm_n = np.array(mse_list).argmin() + 1\n",
    "    mm_names.append(mm_n)"
   ]
  },
  {
   "cell_type": "code",
   "execution_count": 1655,
   "id": "16824ed5",
   "metadata": {},
   "outputs": [
    {
     "data": {
      "image/png": "[encoded data removed]",
      "text/plain": [
       "<Figure size 432x288 with 1 Axes>"
      ]
     },
     "metadata": {
      "needs_background": "light"
     },
     "output_type": "display_data"
    }
   ],
   "source": [
    "plt.hist(mm_names, bins = 15)\n",
    "plt.xlabel('mm-estimate of the number of names')\n",
    "plt.ylabel('count')\n",
    "plt.title('Distribution of the MM-estimates');"
   ]
  },
  {
   "cell_type": "code",
   "execution_count": 1656,
   "id": "746829ab",
   "metadata": {},
   "outputs": [],
   "source": [
    "mm_names = np.array(mm_names)"
   ]
  },
  {
   "cell_type": "markdown",
   "id": "45a2d0ad",
   "metadata": {},
   "source": [
    "Оценка смещения для mm-оценки"
   ]
  },
  {
   "cell_type": "code",
   "execution_count": 1657,
   "id": "06f74453",
   "metadata": {},
   "outputs": [
    {
     "data": {
      "text/plain": [
       "8.392399999999999"
      ]
     },
     "execution_count": 1657,
     "metadata": {},
     "output_type": "execute_result"
    }
   ],
   "source": [
    "mm_names.mean() - 20"
   ]
  },
  {
   "cell_type": "markdown",
   "id": "9e616614",
   "metadata": {},
   "source": [
    "Оценка дисперсии mm-оценки"
   ]
  },
  {
   "cell_type": "code",
   "execution_count": 1658,
   "id": "d275e1d2",
   "metadata": {},
   "outputs": [
    {
     "data": {
      "text/plain": [
       "492.70009224922495"
      ]
     },
     "execution_count": 1658,
     "metadata": {},
     "output_type": "execute_result"
    }
   ],
   "source": [
    "mm_names.var(ddof = 1)"
   ]
  },
  {
   "cell_type": "markdown",
   "id": "e53a4719",
   "metadata": {},
   "source": [
    "Оценка среднеквадратического отклонения mm-оценки"
   ]
  },
  {
   "cell_type": "code",
   "execution_count": 1659,
   "id": "8555050d",
   "metadata": {},
   "outputs": [
    {
     "data": {
      "text/plain": [
       "563.0832"
      ]
     },
     "execution_count": 1659,
     "metadata": {},
     "output_type": "execute_result"
    }
   ],
   "source": [
    "np.sum((mm_names - 20) ** 2) / 10000"
   ]
  },
  {
   "cell_type": "markdown",
   "id": "0561794d",
   "metadata": {},
   "source": [
    "__Задачи 4,5,6__"
   ]
  },
  {
   "cell_type": "code",
   "execution_count": 1670,
   "id": "bcfd6459",
   "metadata": {},
   "outputs": [],
   "source": [
    "def voweler(string):\n",
    "    vowels = set('аеёиоуыэюя')\n",
    "    if string[0].lower() in vowels:\n",
    "        return 'vowel'\n",
    "    else:\n",
    "        return 'consonant'\n"
   ]
  },
  {
   "cell_type": "markdown",
   "id": "1d06045d",
   "metadata": {},
   "source": [
    "__Задача 4__"
   ]
  },
  {
   "cell_type": "code",
   "execution_count": 1671,
   "id": "09f95a56",
   "metadata": {},
   "outputs": [],
   "source": [
    "data = pd.read_excel('exam_grades.xlsx')"
   ]
  },
  {
   "cell_type": "code",
   "execution_count": 1672,
   "id": "bc530852",
   "metadata": {},
   "outputs": [],
   "source": [
    "data['first_letter'] = data['last_name'].apply(voweler)"
   ]
  },
  {
   "cell_type": "code",
   "execution_count": 1673,
   "id": "6013e4dc",
   "metadata": {},
   "outputs": [],
   "source": [
    "sample_v = data[data['first_letter'] == 'vowel']['grade'].values\n",
    "n_v = sample_v.shape[0]\n",
    "var_v = sample_v.var(ddof = 1)\n",
    "mean_v = sample_v.mean()\n",
    "\n",
    "sample_c = data[data['first_letter'] == 'consonant']['grade'].values\n",
    "n_c = sample_c.shape[0]\n",
    "var_c = sample_c.var(ddof = 1)\n",
    "mean_c = sample_c.mean()"
   ]
  },
  {
   "cell_type": "markdown",
   "id": "38b650ec",
   "metadata": {},
   "source": [
    "Тестируем следующее:"
   ]
  },
  {
   "cell_type": "markdown",
   "id": "596110ab",
   "metadata": {},
   "source": [
    "$H_0: \\mu_c = \\mu_v$\n",
    "\n",
    "$H_1: \\mu_c \\not = \\mu_v$"
   ]
  },
  {
   "cell_type": "markdown",
   "id": "3e3b7c77",
   "metadata": {},
   "source": [
    "__(а)__ Welch's test. Предполагая, что выборки нормальные"
   ]
  },
  {
   "cell_type": "markdown",
   "id": "68deb989",
   "metadata": {},
   "source": [
    "$$\n",
    "\\frac{\\hat\\mu_c - \\hat\\mu_v -(\\mu_c-\\mu_v)}{\\sqrt{\\frac{\\hat\\sigma^2_c}{n_c}+\\frac{\\hat\\sigma^2_v}{n_y}}}\\overset{a.}\\sim t_d\n",
    "$$"
   ]
  },
  {
   "cell_type": "markdown",
   "id": "cc9557cd",
   "metadata": {},
   "source": [
    "Количетво степеней свободы можно оценить как"
   ]
  },
  {
   "cell_type": "markdown",
   "id": "941462ff",
   "metadata": {},
   "source": [
    "$$\n",
    "\\hat d =\\frac{(\\frac{\\hat\\sigma^2_c}{n_c}+\\frac{\\hat\\sigma^2_v}{n_v})^2}{\\frac{\\hat\\sigma^4_c}{(n_c-1)n_c^2}+\\frac{\\hat\\sigma_v^4}{(n_v-1)n_v^2}}\n",
    "$$"
   ]
  },
  {
   "cell_type": "markdown",
   "id": "bb11ce40",
   "metadata": {},
   "source": [
    "вычислим $\\hat d$"
   ]
  },
  {
   "cell_type": "code",
   "execution_count": 1674,
   "id": "57502ae4",
   "metadata": {},
   "outputs": [
    {
     "data": {
      "text/plain": [
       "40.04531907940249"
      ]
     },
     "execution_count": 1674,
     "metadata": {},
     "output_type": "execute_result"
    }
   ],
   "source": [
    "d = (var_c / n_c + var_v / n_v) / (var_c ** 2 / ((n_c - 1) * (n_c ** 2))+ var_v ** 2 / ((n_v - 1) * (n_v ** 2)))\n",
    "d"
   ]
  },
  {
   "cell_type": "markdown",
   "id": "6a4584fe",
   "metadata": {},
   "source": [
    "$$\n",
    "t_{obs} = \\frac{\\hat\\mu_c - \\hat\\mu_v}{\\sqrt{\\frac{\\hat\\sigma^2_c}{n_c}+\\frac{\\hat\\sigma^2_v}{n_y}}}\n",
    "$$"
   ]
  },
  {
   "cell_type": "code",
   "execution_count": 1675,
   "id": "6761a727",
   "metadata": {},
   "outputs": [
    {
     "data": {
      "text/plain": [
       "0.8519661870595602"
      ]
     },
     "execution_count": 1675,
     "metadata": {},
     "output_type": "execute_result"
    }
   ],
   "source": [
    "t_obs = (mean_c - mean_v) / np.sqrt(var_c / n_c + var_v / n_v)\n",
    "t_obs"
   ]
  },
  {
   "cell_type": "code",
   "execution_count": 1676,
   "id": "6d621a58",
   "metadata": {},
   "outputs": [
    {
     "data": {
      "text/plain": [
       "2.0210041370846357"
      ]
     },
     "execution_count": 1676,
     "metadata": {},
     "output_type": "execute_result"
    }
   ],
   "source": [
    "t_crit = stats.t.ppf(0.975, df = d)\n",
    "t_crit"
   ]
  },
  {
   "cell_type": "markdown",
   "id": "e6c92e0b",
   "metadata": {},
   "source": [
    "$|t_{obs}| < t_{crit}$. Значит нет основанияя отвергать $H_0$"
   ]
  },
  {
   "cell_type": "code",
   "execution_count": 1677,
   "id": "ee58a2f8",
   "metadata": {},
   "outputs": [
    {
     "data": {
      "text/plain": [
       "Ttest_indResult(statistic=0.8519661870595602, pvalue=0.3974027153843839)"
      ]
     },
     "execution_count": 1677,
     "metadata": {},
     "output_type": "execute_result"
    }
   ],
   "source": [
    "stats.ttest_ind(sample_c, sample_v, equal_var= False) # ручками получилось правильно!"
   ]
  },
  {
   "cell_type": "code",
   "execution_count": 1678,
   "id": "e92748f0",
   "metadata": {},
   "outputs": [
    {
     "data": {
      "text/plain": [
       "0.3992993925647852"
      ]
     },
     "execution_count": 1678,
     "metadata": {},
     "output_type": "execute_result"
    }
   ],
   "source": [
    "p_value = 2 * (1 - stats.t.cdf(t_obs, df = d))\n",
    "p_value"
   ]
  },
  {
   "cell_type": "markdown",
   "id": "5fce13df",
   "metadata": {},
   "source": [
    "__(б)__ наивный бутстрэп"
   ]
  },
  {
   "cell_type": "code",
   "execution_count": 1679,
   "id": "490d7397",
   "metadata": {},
   "outputs": [],
   "source": [
    "np.random.seed(6546)\n",
    "boot_stats_naive = list()\n",
    "for i in range(10000):\n",
    "    boot_sample_c = np.random.choice(sample_c, size = sample_c.shape[0])\n",
    "    boot_sample_v = np.random.choice(sample_v, size = sample_v.shape[0])\n",
    "    boot_stat = boot_sample_c.mean() - boot_sample_v.mean()\n",
    "    boot_stats_naive.append(boot_stat)"
   ]
  },
  {
   "cell_type": "code",
   "execution_count": 1680,
   "id": "0a536945",
   "metadata": {},
   "outputs": [
    {
     "data": {
      "image/png": "[encoded data removed]",
      "text/plain": [
       "<Figure size 432x288 with 1 Axes>"
      ]
     },
     "metadata": {
      "needs_background": "light"
     },
     "output_type": "display_data"
    }
   ],
   "source": [
    "plt.hist(boot_stats_naive, bins = 50);\n",
    "plt.xlabel('boot_stat')\n",
    "plt.ylabel('count')\n",
    "plt.title('Distriution of the Bootstrapped Difference');"
   ]
  },
  {
   "cell_type": "code",
   "execution_count": 1681,
   "id": "aabbc49c",
   "metadata": {},
   "outputs": [],
   "source": [
    "q_left_naive = np.percentile(boot_stats_naive, 2.5)\n",
    "q_right_naive = np.percentile(boot_stats_naive, 97.5)"
   ]
  },
  {
   "cell_type": "code",
   "execution_count": 1682,
   "id": "dd17525c",
   "metadata": {},
   "outputs": [
    {
     "data": {
      "text/plain": [
       "1.0782433114588574"
      ]
     },
     "execution_count": 1682,
     "metadata": {},
     "output_type": "execute_result"
    }
   ],
   "source": [
    "observed = mean_c - mean_v\n",
    "observed"
   ]
  },
  {
   "cell_type": "markdown",
   "id": "e91d9c73",
   "metadata": {},
   "source": [
    "Получаем наивный бутстрап- интервал"
   ]
  },
  {
   "cell_type": "code",
   "execution_count": 1683,
   "id": "97c69242",
   "metadata": {},
   "outputs": [
    {
     "data": {
      "text/plain": [
       "[-1.3480421143722485, 3.585934232350184]"
      ]
     },
     "execution_count": 1683,
     "metadata": {},
     "output_type": "execute_result"
    }
   ],
   "source": [
    "ci = [q_left_naive, q_right_naive]\n",
    "ci"
   ]
  },
  {
   "cell_type": "markdown",
   "id": "1fdc0562",
   "metadata": {},
   "source": [
    "0 входит в интервал, следовательно, нет оснований отвергать $H_0$"
   ]
  },
  {
   "cell_type": "markdown",
   "id": "c13c5763",
   "metadata": {},
   "source": [
    "p-значение я вычислил, посчитав доли бутстрап наблюдений больше и меньше 0, и взяв минимум из них двух, умножил на два (т.к. гипотеза двусторонняя)"
   ]
  },
  {
   "cell_type": "code",
   "execution_count": 1686,
   "id": "a962f39e",
   "metadata": {},
   "outputs": [
    {
     "data": {
      "text/plain": [
       "0.3918"
      ]
     },
     "execution_count": 1686,
     "metadata": {},
     "output_type": "execute_result"
    }
   ],
   "source": [
    "p_value_naive = 2 * min(np.sum((np.array(boot_stats_naive) > 0))/ 10000, np.sum((np.array(boot_stats_naive) <= 0))/10000)\n",
    "p_value_naive"
   ]
  },
  {
   "cell_type": "markdown",
   "id": "28a33a80",
   "metadata": {},
   "source": [
    "__(в)__ бутстрап t-статистики"
   ]
  },
  {
   "cell_type": "code",
   "execution_count": 1060,
   "id": "1e3cb511",
   "metadata": {},
   "outputs": [
    {
     "data": {
      "text/plain": [
       "0.8519661870595602"
      ]
     },
     "execution_count": 1060,
     "metadata": {},
     "output_type": "execute_result"
    }
   ],
   "source": [
    "t_observed = (mean_c - mean_v) / np.sqrt(var_c / n_c + var_v / n_v)\n",
    "t_observed"
   ]
  },
  {
   "cell_type": "code",
   "execution_count": 1088,
   "id": "4a6d1331",
   "metadata": {},
   "outputs": [],
   "source": [
    "np.random.seed(2534245)\n",
    "boot_stats_t = []\n",
    "for i in range(10000):\n",
    "    boot_sample_c = np.random.choice(sample_c, size = sample_c.shape[0])\n",
    "    boot_sample_v = np.random.choice(sample_v, size = sample_v.shape[0])\n",
    "    boot_t = (boot_sample_c.mean() - boot_sample_v.mean() - (mean_c - mean_v))/(np.sqrt(boot_sample_c.var(ddof = 1)/ boot_sample_c.shape[0] + boot_sample_v.var(ddof = 1)/ boot_sample_v.shape[0]))\n",
    "    boot_stats_t.append(boot_t)"
   ]
  },
  {
   "cell_type": "code",
   "execution_count": null,
   "id": "8d29fc13",
   "metadata": {},
   "outputs": [],
   "source": []
  },
  {
   "cell_type": "code",
   "execution_count": 1687,
   "id": "ad62b277",
   "metadata": {},
   "outputs": [
    {
     "data": {
      "image/png": "[encoded data removed]",
      "text/plain": [
       "<Figure size 432x288 with 1 Axes>"
      ]
     },
     "metadata": {
      "needs_background": "light"
     },
     "output_type": "display_data"
    }
   ],
   "source": [
    "plt.hist(boot_stats_t, bins = 30);\n",
    "plt.title('Distribution of Bootstrapped t-statistics')\n",
    "plt.xlabel('bootstrapped t')\n",
    "plt.ylabel('count');"
   ]
  },
  {
   "cell_type": "code",
   "execution_count": 1090,
   "id": "c99cbbe7",
   "metadata": {},
   "outputs": [],
   "source": [
    "q_left_t = np.percentile(boot_stats_t, 2.5)\n",
    "q_right_t = np.percentile(boot_stats_t, 97.5)"
   ]
  },
  {
   "cell_type": "markdown",
   "id": "0a758dd3",
   "metadata": {},
   "source": [
    "По распределению бутстрапированных t-статистик получил квантили:"
   ]
  },
  {
   "cell_type": "code",
   "execution_count": 1091,
   "id": "13c8dcbf",
   "metadata": {},
   "outputs": [
    {
     "data": {
      "text/plain": [
       "(-2.1191775645848585, 1.9353991643062767)"
      ]
     },
     "execution_count": 1091,
     "metadata": {},
     "output_type": "execute_result"
    }
   ],
   "source": [
    "q_left_t, q_right_t"
   ]
  },
  {
   "cell_type": "markdown",
   "id": "5effb14c",
   "metadata": {},
   "source": [
    "Наблюдаемая t-статистика:"
   ]
  },
  {
   "cell_type": "code",
   "execution_count": 1092,
   "id": "e29ddc65",
   "metadata": {},
   "outputs": [
    {
     "data": {
      "text/plain": [
       "0.8519661870595602"
      ]
     },
     "execution_count": 1092,
     "metadata": {},
     "output_type": "execute_result"
    }
   ],
   "source": [
    "t_observed"
   ]
  },
  {
   "cell_type": "markdown",
   "id": "9b3202c8",
   "metadata": {},
   "source": [
    "t-observed находится внутри 'интервала', поэтому нет оснований отвергать $H_0$. p-значение:"
   ]
  },
  {
   "cell_type": "code",
   "execution_count": 1159,
   "id": "08584a13",
   "metadata": {},
   "outputs": [
    {
     "data": {
      "text/plain": [
       "0.3804"
      ]
     },
     "execution_count": 1159,
     "metadata": {},
     "output_type": "execute_result"
    }
   ],
   "source": [
    "p_value = 2 * min(np.sum((boot_stats_t > t_observed))/ 10000, np.sum((boot_stats_t <= t_observed))/10000)\n",
    "p_value"
   ]
  },
  {
   "cell_type": "markdown",
   "id": "10bdd8f3",
   "metadata": {},
   "source": [
    "__(г)__ Перестановочный тест"
   ]
  },
  {
   "cell_type": "code",
   "execution_count": 1137,
   "id": "a1e367c9",
   "metadata": {},
   "outputs": [],
   "source": [
    "from itertools import permutations"
   ]
  },
  {
   "cell_type": "code",
   "execution_count": 1131,
   "id": "fc8d32cd",
   "metadata": {},
   "outputs": [],
   "source": [
    "pool = np.append(sample_c, sample_v)"
   ]
  },
  {
   "cell_type": "markdown",
   "id": "99c82d57",
   "metadata": {},
   "source": [
    "Будем делать новые выборки размера $n_c$ и $n_v$ из объединенных сэмплов."
   ]
  },
  {
   "cell_type": "code",
   "execution_count": 1140,
   "id": "66504886",
   "metadata": {},
   "outputs": [
    {
     "name": "stderr",
     "output_type": "stream",
     "text": [
      "100%|██████████| 10000/10000 [00:00<00:00, 40597.32it/s]\n"
     ]
    }
   ],
   "source": [
    "permutation_means = []\n",
    "for i in tqdm(range(10000)):\n",
    "    permuted = np.random.permutation(pool)\n",
    "    permuted_c = permuted[:n_c]\n",
    "    permuted_v = permuted[n_c:]\n",
    "    permuted_mean = permuted_c.mean() - permuted_v.mean()\n",
    "    permutation_means.append(permuted_mean)"
   ]
  },
  {
   "cell_type": "code",
   "execution_count": 1144,
   "id": "36d0f3b9",
   "metadata": {},
   "outputs": [
    {
     "data": {
      "image/png": "[encoded data removed]",
      "text/plain": [
       "<Figure size 432x288 with 1 Axes>"
      ]
     },
     "metadata": {
      "needs_background": "light"
     },
     "output_type": "display_data"
    }
   ],
   "source": [
    "plt.hist(permutation_means, bins = 30);\n",
    "plt.xlabel('permutation mean')\n",
    "plt.ylabel('count')\n",
    "plt.title('Distribution of the Permuted Means');"
   ]
  },
  {
   "cell_type": "markdown",
   "id": "d1b01b9f",
   "metadata": {},
   "source": [
    "Перестановочный интервал разниц матожиданий:"
   ]
  },
  {
   "cell_type": "code",
   "execution_count": null,
   "id": "07c3b893",
   "metadata": {},
   "outputs": [],
   "source": [
    "permutation_means = np.array(permutation_means)"
   ]
  },
  {
   "cell_type": "code",
   "execution_count": 1694,
   "id": "ee002a67",
   "metadata": {},
   "outputs": [
    {
     "data": {
      "text/plain": [
       "(-2.3693661210067045, 2.4429220451431455)"
      ]
     },
     "execution_count": 1694,
     "metadata": {},
     "output_type": "execute_result"
    }
   ],
   "source": [
    "np.percentile(permutation_means, 2.5), np.percentile(permutation_means, 97.5)"
   ]
  },
  {
   "cell_type": "code",
   "execution_count": 1700,
   "id": "83c8b2e3",
   "metadata": {},
   "outputs": [
    {
     "data": {
      "text/plain": [
       "1.0782433114588574"
      ]
     },
     "execution_count": 1700,
     "metadata": {},
     "output_type": "execute_result"
    }
   ],
   "source": [
    "observed"
   ]
  },
  {
   "cell_type": "code",
   "execution_count": 1699,
   "id": "28867b0a",
   "metadata": {},
   "outputs": [
    {
     "data": {
      "text/plain": [
       "0.3772"
      ]
     },
     "execution_count": 1699,
     "metadata": {},
     "output_type": "execute_result"
    }
   ],
   "source": [
    "p_value = 2 * min(np.sum(permutation_means > observed)/ 10000, np.sum(permutation_means <= observed)/10000) \n",
    "p_value"
   ]
  },
  {
   "cell_type": "markdown",
   "id": "0284236e",
   "metadata": {},
   "source": [
    "Уровень значимость 0.05 меньше p-значения, следовательно, нет оснований отвергать $H_0$"
   ]
  },
  {
   "cell_type": "markdown",
   "id": "057af6ef",
   "metadata": {},
   "source": [
    "__Задача 5__"
   ]
  },
  {
   "cell_type": "code",
   "execution_count": 1584,
   "id": "9e4056e9",
   "metadata": {},
   "outputs": [],
   "source": [
    "def voweler(string):\n",
    "    vowels = set('аеёиоуыэюя')\n",
    "    if string[0].lower() in vowels:\n",
    "        return 'vowel'\n",
    "    else:\n",
    "        return 'consonant'\n",
    "\n",
    "def medianer(x):\n",
    "    median = data['grade'].median()  \n",
    "    if x > median:\n",
    "        return 'more_than_median'\n",
    "    else:\n",
    "        return 'less_than_median'"
   ]
  },
  {
   "cell_type": "code",
   "execution_count": 1585,
   "id": "23e9cf67",
   "metadata": {},
   "outputs": [],
   "source": [
    "data = pd.read_excel('exam_grades.xlsx')"
   ]
  },
  {
   "cell_type": "code",
   "execution_count": 1586,
   "id": "f3baf595",
   "metadata": {},
   "outputs": [],
   "source": [
    "data['first_letter'] = data['last_name'].apply(voweler)\n",
    "data['median'] = data['grade'].apply(medianer)"
   ]
  },
  {
   "cell_type": "code",
   "execution_count": 1587,
   "id": "d1a3581d",
   "metadata": {},
   "outputs": [],
   "source": [
    "contingency_table = pd.crosstab(index = data['first_letter'], columns=data['median'])"
   ]
  },
  {
   "cell_type": "code",
   "execution_count": 1588,
   "id": "6e08aa8b",
   "metadata": {},
   "outputs": [
    {
     "data": {
      "text/html": [
       "<div>\n",
       "<style scoped>\n",
       "    .dataframe tbody tr th:only-of-type {\n",
       "        vertical-align: middle;\n",
       "    }\n",
       "\n",
       "    .dataframe tbody tr th {\n",
       "        vertical-align: top;\n",
       "    }\n",
       "\n",
       "    .dataframe thead th {\n",
       "        text-align: right;\n",
       "    }\n",
       "</style>\n",
       "<table border=\"1\" class=\"dataframe\">\n",
       "  <thead>\n",
       "    <tr style=\"text-align: right;\">\n",
       "      <th>median</th>\n",
       "      <th>less_than_median</th>\n",
       "      <th>more_than_median</th>\n",
       "    </tr>\n",
       "    <tr>\n",
       "      <th>first_letter</th>\n",
       "      <th></th>\n",
       "      <th></th>\n",
       "    </tr>\n",
       "  </thead>\n",
       "  <tbody>\n",
       "    <tr>\n",
       "      <th>consonant</th>\n",
       "      <td>138</td>\n",
       "      <td>145</td>\n",
       "    </tr>\n",
       "    <tr>\n",
       "      <th>vowel</th>\n",
       "      <td>28</td>\n",
       "      <td>21</td>\n",
       "    </tr>\n",
       "  </tbody>\n",
       "</table>\n",
       "</div>"
      ],
      "text/plain": [
       "median        less_than_median  more_than_median\n",
       "first_letter                                    \n",
       "consonant                  138               145\n",
       "vowel                       28                21"
      ]
     },
     "execution_count": 1588,
     "metadata": {},
     "output_type": "execute_result"
    }
   ],
   "source": [
    "contingency_table"
   ]
  },
  {
   "cell_type": "code",
   "execution_count": 1589,
   "id": "09fb418e",
   "metadata": {},
   "outputs": [],
   "source": [
    "p_cons = contingency_table.iloc[0,1] / (contingency_table.iloc[0,0] + contingency_table.iloc[0,1])\n",
    "p_vow = contingency_table.iloc[1,1] / (contingency_table.iloc[1,0] + contingency_table.iloc[1,1])\n",
    "nc = (contingency_table.iloc[0,0] + contingency_table.iloc[0,1])\n",
    "nv = (contingency_table.iloc[1,0] + contingency_table.iloc[1,1])"
   ]
  },
  {
   "cell_type": "markdown",
   "id": "52ac5e08",
   "metadata": {},
   "source": [
    "__(б)__  начну  с гипотезы"
   ]
  },
  {
   "cell_type": "markdown",
   "id": "5ade42ab",
   "metadata": {},
   "source": [
    "$H_0: p_c=p_v$\n",
    "\n",
    "$H_1: p_c \\not = p_v$\n",
    "\n",
    "$$\n",
    "Z_{obs} = \\frac{\\hat p_c-\\hat p_v}{\\sqrt{\\frac{\\hat p_c(1-\\hat p_c)}{n_c}+\\frac{\\hat p_v(1-\\hat p_v)}{n_v}}}\\overset{a.}\\sim N(0,1)\n",
    "$$"
   ]
  },
  {
   "cell_type": "code",
   "execution_count": 1590,
   "id": "b542ea5d",
   "metadata": {},
   "outputs": [
    {
     "data": {
      "text/plain": [
       "1.092714086706707"
      ]
     },
     "execution_count": 1590,
     "metadata": {},
     "output_type": "execute_result"
    }
   ],
   "source": [
    "z_obs = (p_cons-p_vow)/np.sqrt(p_cons*(1-p_cons)/nc + p_vow * (1-p_vow)/nv)\n",
    "z_obs"
   ]
  },
  {
   "cell_type": "markdown",
   "id": "7280408b",
   "metadata": {},
   "source": [
    "Критическое значение на уровне значимости 0.95:"
   ]
  },
  {
   "cell_type": "code",
   "execution_count": 1591,
   "id": "81c6c96e",
   "metadata": {},
   "outputs": [
    {
     "data": {
      "text/plain": [
       "1.959963984540054"
      ]
     },
     "execution_count": 1591,
     "metadata": {},
     "output_type": "execute_result"
    }
   ],
   "source": [
    "z_crit = stats.norm().ppf(0.975)\n",
    "z_crit"
   ]
  },
  {
   "cell_type": "markdown",
   "id": "07f98643",
   "metadata": {},
   "source": [
    "\n",
    "$|Z_{obs}| < Z_{crit}$, следовательно нулевая гипотеза не отвергается"
   ]
  },
  {
   "cell_type": "code",
   "execution_count": 1592,
   "id": "95e97d0c",
   "metadata": {},
   "outputs": [
    {
     "data": {
      "text/plain": [
       "0.2745193528742256"
      ]
     },
     "execution_count": 1592,
     "metadata": {},
     "output_type": "execute_result"
    }
   ],
   "source": [
    "p_value = 2*(1 - stats.norm().cdf(z_obs))\n",
    "p_value"
   ]
  },
  {
   "cell_type": "markdown",
   "id": "d9c66d84",
   "metadata": {},
   "source": [
    "__интервал__"
   ]
  },
  {
   "cell_type": "markdown",
   "id": "98f533a3",
   "metadata": {},
   "source": [
    "отношение вероятностей приблизим в точке $(\\hat p_v, \\hat p_c) = (p_v, p_c)$"
   ]
  },
  {
   "cell_type": "markdown",
   "id": "3c98616e",
   "metadata": {},
   "source": [
    "$$\n",
    "h(\\hat p_v, \\hat p_c) = \\frac{\\hat p_v}{\\hat p_c} \\\\\n",
    "h(\\hat p_v, \\hat p_c) \\approx\\frac{p_v}{p_c} +\\frac{1}{p_c}(\\hat p_v - p_v) -\\frac{p_v}{p_c^2}(\\hat p_c - p_c)\\\\\n",
    "Var(h(\\hat p_v,\\hat p_c))\\approx Var(\\frac{p_v}{p_c} +\\frac{1}{p_c}(\\hat p_v - p_v) -\\frac{p_v}{p_c^2}(\\hat p_c - p_c))= \\\\ \\frac{1}{p_c^2}Var(\\hat p_v) +\\frac{p_v^2}{p_c^4}Var(\\hat p_c) = \\frac{p_v(1-p_v)}{p_c^2n_v}+\\frac{p_v^2(1-p_c)}{p_c^3n_c}\n",
    "$$"
   ]
  },
  {
   "cell_type": "markdown",
   "id": "cbbfcdc1",
   "metadata": {},
   "source": [
    "Тогда интервал будет иметь вид"
   ]
  },
  {
   "cell_type": "markdown",
   "id": "0943de00",
   "metadata": {},
   "source": [
    "$$\n",
    "\\frac{\\hat p_v}{\\hat p_c} - 1.96\\cdot\\sqrt{\\frac{p_v(1-p_v)}{p_c^2n_v}+\\frac{p_v^2(1-p_c)}{p_c^3n_c}} < \\frac{p_v}{p_c} < \\frac{\\hat p_v}{\\hat p_c} + 1.96\\cdot\\sqrt{\\frac{p_v(1-p_v)}{p_c^2n_v}+\\frac{p_v^2(1-p_c)}{p_c^3n_c}}\n",
    "$$"
   ]
  },
  {
   "cell_type": "markdown",
   "id": "28ebeb6a",
   "metadata": {},
   "source": [
    "Численно:"
   ]
  },
  {
   "cell_type": "code",
   "execution_count": 1618,
   "id": "b7324e57",
   "metadata": {},
   "outputs": [],
   "source": [
    "p_ratio = p_vow/p_cons\n",
    "p_var_ratio = p_vow * (1-p_vow)/(n_v *  p_cons **2) + (1-p_cons) * p_vow ** 2/(n_c * p_cons ** 3)"
   ]
  },
  {
   "cell_type": "code",
   "execution_count": 1619,
   "id": "6b8cf2f0",
   "metadata": {},
   "outputs": [
    {
     "data": {
      "text/plain": [
       "(0.5497946344819109, 1.1231117694589758)"
      ]
     },
     "execution_count": 1619,
     "metadata": {},
     "output_type": "execute_result"
    }
   ],
   "source": [
    "p_ratio - z_crit * np.sqrt(p_var_ratio), p_ratio + z_crit * np.sqrt(p_var_ratio)"
   ]
  },
  {
   "cell_type": "markdown",
   "id": "195a23da",
   "metadata": {},
   "source": [
    "Можно проверить гипотезу и через интервал"
   ]
  },
  {
   "cell_type": "markdown",
   "id": "6c00eba8",
   "metadata": {},
   "source": [
    "Гипотеза"
   ]
  },
  {
   "cell_type": "markdown",
   "id": "9255cfc5",
   "metadata": {},
   "source": [
    "$H_0: \\frac{p_v}{p_c} = 1$\n",
    "\n",
    "$H_1: \\frac{p_v}{p_c}\\not = 1$"
   ]
  },
  {
   "cell_type": "markdown",
   "id": "226d2d06",
   "metadata": {},
   "source": [
    "Наблюдаемое значение статистики:"
   ]
  },
  {
   "cell_type": "code",
   "execution_count": 1621,
   "id": "10fea37a",
   "metadata": {},
   "outputs": [
    {
     "data": {
      "text/plain": [
       "-1.118214734459665"
      ]
     },
     "execution_count": 1621,
     "metadata": {},
     "output_type": "execute_result"
    }
   ],
   "source": [
    "z_obs = (p_ratio - 1)/np.sqrt(p_var_ratio)\n",
    "z_obs"
   ]
  },
  {
   "cell_type": "code",
   "execution_count": 1622,
   "id": "8a2927df",
   "metadata": {},
   "outputs": [
    {
     "data": {
      "text/plain": [
       "0.26347529277764214"
      ]
     },
     "execution_count": 1622,
     "metadata": {},
     "output_type": "execute_result"
    }
   ],
   "source": [
    "p_value = stats.norm.cdf(z_obs) * 2\n",
    "p_value"
   ]
  },
  {
   "cell_type": "markdown",
   "id": "58444369",
   "metadata": {},
   "source": [
    "p-значение больше 0.05, следовательно, нет оснований отвергать гипотезу $H_0$ на уровне значимости 5%."
   ]
  },
  {
   "cell_type": "markdown",
   "id": "0f1aa7eb",
   "metadata": {},
   "source": [
    "__(а)__ Что такое шансы?"
   ]
  },
  {
   "cell_type": "markdown",
   "id": "9745b609",
   "metadata": {},
   "source": [
    "Пусть $X_i$ ($Y_i$) - бернуллевская случайная величина, которая приимает значение 1, если студент с фамилией на согласную (гласную) получает оценку выше медианы, и 0 - если ниже. Тогда шансы хорошо написать экзамен:"
   ]
  },
  {
   "cell_type": "markdown",
   "id": "b6a933ab",
   "metadata": {},
   "source": [
    "$$\n",
    "\\hat ch_c = \\frac{\\sum X_i}{\\sum(1- X_i)} = \\frac{\\sum X_i}{n_c - \\sum X_i} = \\frac{n_c}{n_c-\\sum X_i}- 1 = \\frac{1}{1-\\hat p_c} -1\\\\\n",
    "\\hat ch_v = \\frac{1}{1-\\hat p_v} -1\n",
    "$$"
   ]
  },
  {
   "cell_type": "markdown",
   "id": "bb1fc50b",
   "metadata": {},
   "source": [
    "$$\n",
    "\\frac{\\hat ch_v}{\\hat ch_c} = \\frac{\\frac{1}{1-\\hat p_v} -1}{\\frac{1}{1-\\hat p_c} -1} = \\frac{\\frac{\\hat p_v}{1 - \\hat p_v}}{\\frac{\\hat p_c}{1 - \\hat p_c}} = \\frac{\\hat p_v(1-\\hat p_c)}{\\hat p_c (1-\\hat p_v)}\n",
    "$$"
   ]
  },
  {
   "cell_type": "markdown",
   "id": "f65e105f",
   "metadata": {},
   "source": [
    "Оценки $\\hat p_c$ и $\\hat p_v$ состоятельны и асимптотически нормальны. Воспользуемся дельта методом, чтобы приблизительно оценить отношение шансов в окрестности точки $(\\hat p_v,\\hat p_c) = (p_v,p_c)$. В первом приближении:"
   ]
  },
  {
   "cell_type": "markdown",
   "id": "62b94282",
   "metadata": {},
   "source": [
    "$$\n",
    "h(\\hat p_v, \\hat p_c) \\approx h(p_v, p_c) + h'_{p_v}(p_v, p_c)(\\hat p_v - p_v)+ h'_{p_c}(p_v, p_c)(\\hat p_c - p_c)\\\\\n",
    "h(\\hat p_v, \\hat p_c) \\approx \\frac{p_v(1-p_c)}{p_c(1-p_v)} + \\frac{1-p_c}{(1-p_v)^2 p_c}(\\hat p_v - p_v) + \\frac{p_v}{p_c^2(1-p_v)}(\\hat p_c - p_c)\n",
    "$$"
   ]
  },
  {
   "cell_type": "markdown",
   "id": "d544d428",
   "metadata": {},
   "source": [
    "Тогда (выборки для фамилий, начинающихся на гласную и фамилий, начинающихся на солгасную независимы)"
   ]
  },
  {
   "cell_type": "markdown",
   "id": "43208151",
   "metadata": {},
   "source": [
    "$$\n",
    "Var(h(\\hat p_v, p_c)) \\approx Var(\\frac{p_v(1-p_c)}{p_c(1-p_v)} + \\frac{1-p_c}{(1-p_v)^2 p_c}(\\hat p_v - p_v) + \\frac{p_v}{p_c^2(1-p_v)}(\\hat p_c - p_c)) =\\\\= \\frac{(1-p_c)^2}{(1-p_v)^4p_c^2}Var(\\hat p_v) + \\frac{p_v^2}{p_c^4(1-p_v)^2}Var(\\hat p_c)=\\\\= \\frac{(1-p_c)^2}{(1-p_v)^4p_c^2}\\cdot\\frac{p_v(1-p_v)}{n_v} + \\frac{p_v^2}{p_c^4(1-p_v)^2}\\cdot\\frac{p_c(1-p_c)}{n_c} =\\\\= \\frac{(1-p_c)^2p_v}{(1-p_v)^3p_c^2n_v} +\\frac{p_v^2(1-p_c)}{p_c^3(1-p_v)^2n_c} \n",
    "$$"
   ]
  },
  {
   "cell_type": "markdown",
   "id": "a67d31cf",
   "metadata": {},
   "source": [
    "Получается, что"
   ]
  },
  {
   "cell_type": "markdown",
   "id": "435f47f4",
   "metadata": {},
   "source": [
    "$$\n",
    "\\frac{\\hat ch_v}{\\hat ch_c}\\overset{a.}\\sim N[\\frac{p_v(1-p_c)}{p_c(1-p_v)}, \\frac{(1-p_c)^2p_v}{(1-p_v)^3p_c^2n_v} +\\frac{p_v^2(1-p_c)}{p_c^3(1-p_v)^2n_c} ]\n",
    "$$"
   ]
  },
  {
   "cell_type": "markdown",
   "id": "9df0c581",
   "metadata": {},
   "source": [
    "Тогда доверительный интервал:"
   ]
  },
  {
   "cell_type": "markdown",
   "id": "a44bb496",
   "metadata": {},
   "source": [
    "$$\n",
    "\\frac{\\hat p_v(1-\\hat p_c)}{\\hat p_c(1-\\hat p_v)} - 1.96\\cdot\\sqrt{\\frac{(1-\\hat p_c)^2\\hat p_v}{(1-\\hat p_v)^3\\hat p_c^2n_v} +\\frac{\\hat p_v^2(1-\\hat p_c)}{\\hat p_c^3(1-\\hat p_v)^2n_c}} <\\frac{ch_v}{ch_c}< \\frac{\\hat p_v(1-\\hat p_c)}{\\hat p_c(1-\\hat p_v)} + 1.96\\cdot\\sqrt{\\frac{(1-\\hat p_c)^2\\hat p_v}{(1-\\hat p_v)^3\\hat p_c^2n_v} +\\frac{\\hat p_v^2(1-\\hat p_c)}{\\hat p_c^3(1-\\hat p_v)^2n_c}}\n",
    "$$"
   ]
  },
  {
   "cell_type": "markdown",
   "id": "62b01ef3",
   "metadata": {},
   "source": [
    "Вычислим:"
   ]
  },
  {
   "cell_type": "markdown",
   "id": "b4eae855",
   "metadata": {},
   "source": [
    "Наблюдаемое отношение шансов"
   ]
  },
  {
   "cell_type": "code",
   "execution_count": 1594,
   "id": "1231ce3a",
   "metadata": {},
   "outputs": [
    {
     "data": {
      "text/plain": [
       "0.713793103448276"
      ]
     },
     "execution_count": 1594,
     "metadata": {},
     "output_type": "execute_result"
    }
   ],
   "source": [
    "ch_ratio = p_vow * (1- p_cons) / (p_cons * (1 - p_vow))\n",
    "ch_ratio"
   ]
  },
  {
   "cell_type": "code",
   "execution_count": 1600,
   "id": "9e9f187c",
   "metadata": {},
   "outputs": [],
   "source": [
    "var_ratio = p_vow * (1 - p_cons) ** 2 /(n_v * (p_cons ** 2) * (1 - p_vow) ** 3) + p_vow ** 2 * (1 - p_cons) / (n_c * ((1 - p_vow) ** 2) * p_cons**3)"
   ]
  },
  {
   "cell_type": "markdown",
   "id": "65c7e2b5",
   "metadata": {},
   "source": [
    "Получаем интервал"
   ]
  },
  {
   "cell_type": "code",
   "execution_count": 1605,
   "id": "aedf1f69",
   "metadata": {},
   "outputs": [
    {
     "data": {
      "text/plain": [
       "(0.27700593497628884, 1.1505802719202631)"
      ]
     },
     "execution_count": 1605,
     "metadata": {},
     "output_type": "execute_result"
    }
   ],
   "source": [
    "ch_ratio - z_crit * np.sqrt(var_ratio), ch_ratio + z_crit * np.sqrt(var_ratio)"
   ]
  },
  {
   "cell_type": "markdown",
   "id": "04ad4ec0",
   "metadata": {},
   "source": [
    "$H_0: \\frac{ch_v}{ch_c} = 1$\n",
    "\n",
    "$H_1: \\frac{ch_v}{ch_c} \\not= 1$\n"
   ]
  },
  {
   "cell_type": "markdown",
   "id": "4ada6ccf",
   "metadata": {},
   "source": [
    "$$\n",
    "Z_{obs} = \\frac{\\frac{\\hat p_v(1-\\hat p_c)}{\\hat p_c(1-\\hat p_v)} - 1}{\\sqrt{\\frac{(1-\\hat p_c)^2\\hat p_v}{(1-\\hat p_v)^3\\hat p_c^2n_v} +\\frac{\\hat p_v^2(1-\\hat p_c)}{\\hat p_c^3(1-\\hat p_v)^2n_c}}}\n",
    "$$"
   ]
  },
  {
   "cell_type": "markdown",
   "id": "ddd854f7",
   "metadata": {},
   "source": [
    "Наблюдаемая статистика"
   ]
  },
  {
   "cell_type": "code",
   "execution_count": 1607,
   "id": "086dd8ee",
   "metadata": {},
   "outputs": [
    {
     "data": {
      "text/plain": [
       "-1.284275843841178"
      ]
     },
     "execution_count": 1607,
     "metadata": {},
     "output_type": "execute_result"
    }
   ],
   "source": [
    "z_obs = (ch_ratio - 1) / np.sqrt(var_ratio)\n",
    "z_obs"
   ]
  },
  {
   "cell_type": "markdown",
   "id": "96a6ddff",
   "metadata": {},
   "source": [
    "p-значение"
   ]
  },
  {
   "cell_type": "code",
   "execution_count": 1609,
   "id": "6a14cf81",
   "metadata": {},
   "outputs": [
    {
     "data": {
      "text/plain": [
       "0.19904545585927402"
      ]
     },
     "execution_count": 1609,
     "metadata": {},
     "output_type": "execute_result"
    }
   ],
   "source": [
    "p_value = 2 * stats.norm.cdf(z_obs)\n",
    "p_value"
   ]
  },
  {
   "cell_type": "markdown",
   "id": "e9a2bf20",
   "metadata": {},
   "source": [
    "p-значение больше 0.05, следовательно нет оснований отвергать нулевую гипотезу на уровне значимости 5%."
   ]
  },
  {
   "cell_type": "markdown",
   "id": "d58d7e9c",
   "metadata": {},
   "source": [
    "__(в)__ БУТСТРЭП"
   ]
  },
  {
   "cell_type": "code",
   "execution_count": 1114,
   "id": "7644e9da",
   "metadata": {},
   "outputs": [],
   "source": [
    "obs_ratio = ch_v / ch_c"
   ]
  },
  {
   "cell_type": "code",
   "execution_count": 1115,
   "id": "4a4480c6",
   "metadata": {},
   "outputs": [
    {
     "data": {
      "text/plain": [
       "(1.0507246376811592, 0.75)"
      ]
     },
     "execution_count": 1115,
     "metadata": {},
     "output_type": "execute_result"
    }
   ],
   "source": [
    "ch_c, ch_v"
   ]
  },
  {
   "cell_type": "code",
   "execution_count": 1116,
   "id": "d2968ae9",
   "metadata": {},
   "outputs": [
    {
     "data": {
      "text/plain": [
       "0.713793103448276"
      ]
     },
     "execution_count": 1116,
     "metadata": {},
     "output_type": "execute_result"
    }
   ],
   "source": [
    "obs_ratio"
   ]
  },
  {
   "cell_type": "code",
   "execution_count": 1117,
   "id": "f2ab12bf",
   "metadata": {},
   "outputs": [],
   "source": [
    "n_boot = 10000"
   ]
  },
  {
   "cell_type": "markdown",
   "id": "c73ef77f",
   "metadata": {},
   "source": [
    "наивный бутстрап: будем генерировать $\\hat{(\\frac{ch_v}{ch_c})}^*$"
   ]
  },
  {
   "cell_type": "code",
   "execution_count": 1118,
   "id": "4c9537ef",
   "metadata": {},
   "outputs": [
    {
     "name": "stderr",
     "output_type": "stream",
     "text": [
      "100%|██████████| 10000/10000 [02:20<00:00, 71.28it/s]\n"
     ]
    }
   ],
   "source": [
    "np.random.seed(246)\n",
    "boot_ratios = list()\n",
    "for i in tqdm(range(n_boot)):\n",
    "    boot_sample_idx = np.random.choice(data.index.values, size = 332)\n",
    "    sample = data[['grade', 'first_letter']].iloc[boot_sample_idx]\n",
    "    sample['md'] = sample['grade'].apply(lambda x: 'more_than_median' if x > sample.grade.median() else 'less_than_median')\n",
    "    table = pd.crosstab(index = sample['first_letter'], columns=sample['md'])\n",
    "    p_cons = table.iloc[0,1] / (table.iloc[0,0] + table.iloc[0,1])\n",
    "    p_vow = table.iloc[1,1] / (table.iloc[1,0] + table.iloc[1,1])\n",
    "    ch_c = 1 / (1-p_cons) - 1\n",
    "    ch_v = 1 / (1-p_vow) - 1\n",
    "    boot_ratio = ch_v / ch_c\n",
    "    boot_ratios.append(boot_ratio)"
   ]
  },
  {
   "cell_type": "code",
   "execution_count": 1121,
   "id": "b51d5c49",
   "metadata": {},
   "outputs": [
    {
     "data": {
      "image/png": "[encoded data removed]",
      "text/plain": [
       "<Figure size 432x288 with 1 Axes>"
      ]
     },
     "metadata": {
      "needs_background": "light"
     },
     "output_type": "display_data"
    }
   ],
   "source": [
    "plt.hist(boot_ratios, bins = 50);\n",
    "plt.xlabel('boot_ratio*');\n",
    "plt.ylabel('count');"
   ]
  },
  {
   "cell_type": "code",
   "execution_count": 1122,
   "id": "524071cb",
   "metadata": {},
   "outputs": [],
   "source": [
    "boot_ratios = np.array(boot_ratios)"
   ]
  },
  {
   "cell_type": "code",
   "execution_count": 1123,
   "id": "c8c5f5d6",
   "metadata": {},
   "outputs": [],
   "source": [
    "q_left = np.percentile(boot_ratios, 2.5)\n",
    "q_right = np.percentile(boot_ratios, 97.5)"
   ]
  },
  {
   "cell_type": "markdown",
   "id": "86ea3339",
   "metadata": {},
   "source": [
    "Получили квантили"
   ]
  },
  {
   "cell_type": "code",
   "execution_count": 1124,
   "id": "917e9aaa",
   "metadata": {},
   "outputs": [
    {
     "data": {
      "text/plain": [
       "1.5401953418482344"
      ]
     },
     "execution_count": 1124,
     "metadata": {},
     "output_type": "execute_result"
    }
   ],
   "source": [
    "q_right"
   ]
  },
  {
   "cell_type": "code",
   "execution_count": 1125,
   "id": "1dd4a462",
   "metadata": {},
   "outputs": [
    {
     "data": {
      "text/plain": [
       "0.40539847539847534"
      ]
     },
     "execution_count": 1125,
     "metadata": {},
     "output_type": "execute_result"
    }
   ],
   "source": [
    "q_left"
   ]
  },
  {
   "cell_type": "markdown",
   "id": "3ab5f877",
   "metadata": {},
   "source": [
    "Получаем"
   ]
  },
  {
   "cell_type": "markdown",
   "id": "ae290bab",
   "metadata": {},
   "source": [
    "$$\n",
    "q_{left}(R^*) <\\frac{ch_v}{ch_c} < q_{right}(R^*)\\\\\n",
    "$$"
   ]
  },
  {
   "cell_type": "code",
   "execution_count": 1126,
   "id": "bd69844f",
   "metadata": {},
   "outputs": [
    {
     "data": {
      "text/plain": [
       "0.713793103448276"
      ]
     },
     "execution_count": 1126,
     "metadata": {},
     "output_type": "execute_result"
    }
   ],
   "source": [
    "obs_ratio"
   ]
  },
  {
   "cell_type": "markdown",
   "id": "efdc4e9a",
   "metadata": {},
   "source": [
    "Вычислим:"
   ]
  },
  {
   "cell_type": "code",
   "execution_count": 1127,
   "id": "fd77aac2",
   "metadata": {},
   "outputs": [
    {
     "data": {
      "text/plain": [
       "(0.40539847539847534, 1.5401953418482344)"
      ]
     },
     "execution_count": 1127,
     "metadata": {},
     "output_type": "execute_result"
    }
   ],
   "source": [
    "q_left, q_right"
   ]
  },
  {
   "cell_type": "markdown",
   "id": "efbc4466",
   "metadata": {},
   "source": [
    "Гипотеза:"
   ]
  },
  {
   "cell_type": "markdown",
   "id": "c4615d2b",
   "metadata": {},
   "source": [
    "$H_0: ch_c = ch_v$\n",
    "\n",
    "$H_1: ch_c \\not = ch_v$"
   ]
  },
  {
   "cell_type": "markdown",
   "id": "8a091991",
   "metadata": {},
   "source": [
    "Получаем $\\frac{ch_c}{ch_v}=1$, входит в интервал, нет оснований отвергать $H_0$."
   ]
  },
  {
   "cell_type": "code",
   "execution_count": 1128,
   "id": "bab73661",
   "metadata": {},
   "outputs": [
    {
     "data": {
      "image/png": "[encoded data removed]",
      "text/plain": [
       "<Figure size 432x288 with 1 Axes>"
      ]
     },
     "metadata": {
      "needs_background": "light"
     },
     "output_type": "display_data"
    }
   ],
   "source": [
    "plt.hist(boot_ratios ,bins = 50);\n",
    "plt.xlabel('boot_ratio')\n",
    "plt.ylabel('count');"
   ]
  },
  {
   "cell_type": "markdown",
   "id": "b9eec14e",
   "metadata": {},
   "source": [
    "Двустороннее p-value"
   ]
  },
  {
   "cell_type": "code",
   "execution_count": 1702,
   "id": "1c07b416",
   "metadata": {},
   "outputs": [
    {
     "data": {
      "text/plain": [
       "0.504"
      ]
     },
     "execution_count": 1702,
     "metadata": {},
     "output_type": "execute_result"
    }
   ],
   "source": [
    "p_value = 2 * min(np.sum(boot_ratios < 1)/10000, np.sum(boot_ratios >= 1)/10000)\n",
    "p_value"
   ]
  },
  {
   "cell_type": "markdown",
   "id": "10fe03fa",
   "metadata": {},
   "source": [
    "__Задача 6__"
   ]
  },
  {
   "cell_type": "code",
   "execution_count": 1628,
   "id": "1c33400b",
   "metadata": {},
   "outputs": [],
   "source": [
    "data['len_name'] = data['last_name'].apply(lambda x: len(x))"
   ]
  },
  {
   "cell_type": "markdown",
   "id": "2660d5f2",
   "metadata": {},
   "source": [
    "$$\n",
    "\\mathbb{E} [Y_i] = \\beta F_i\n",
    "$$"
   ]
  },
  {
   "cell_type": "markdown",
   "id": "8de62573",
   "metadata": {},
   "source": [
    "По-факту здесь"
   ]
  },
  {
   "cell_type": "markdown",
   "id": "d7f72049",
   "metadata": {},
   "source": [
    "$$\n",
    "\\mathbb{E}[Y_i|F_i] = \\beta F_i\n",
    "$$"
   ]
  },
  {
   "cell_type": "markdown",
   "id": "a7783ba2",
   "metadata": {},
   "source": [
    "Возьмем математическое ожидание от левой и правой частей"
   ]
  },
  {
   "cell_type": "markdown",
   "id": "371fa1aa",
   "metadata": {},
   "source": [
    "$$\n",
    "\\mathbb{E}[\\mathbb{E}[Y_i|F_i]] = \\beta\\cdot\\mathbb{E}[F_i]\\\\\n",
    "\\mathbb{E}[Y_i] = \\beta\\cdot\\mathbb{E}[F_i]\n",
    "$$"
   ]
  },
  {
   "cell_type": "markdown",
   "id": "444f09a3",
   "metadata": {},
   "source": [
    "Оценивая $\\mathbb{E}[Y_i]$ и $\\mathbb{E}[F_i]$ методом моментов с помощью первого начального момента, получаем"
   ]
  },
  {
   "cell_type": "markdown",
   "id": "504e257d",
   "metadata": {},
   "source": [
    "$$\n",
    "\\mathbb{E}[Y_i] = \\bar Y, \\mathbb{E}[F_i] = \\bar F\n",
    "$$"
   ]
  },
  {
   "cell_type": "markdown",
   "id": "718335ef",
   "metadata": {},
   "source": [
    "Тогда\n",
    "$$\n",
    "\\bar Y = \\beta \\bar F\\\\\n",
    "\\hat\\beta = \\frac{\\bar Y}{\\bar F}\n",
    "$$"
   ]
  },
  {
   "cell_type": "markdown",
   "id": "6ae7e840",
   "metadata": {},
   "source": [
    "Подставляем данные и получаем оценку параметра бета:"
   ]
  },
  {
   "cell_type": "code",
   "execution_count": 1629,
   "id": "901d7150",
   "metadata": {},
   "outputs": [
    {
     "data": {
      "text/plain": [
       "2.0613026819923372"
      ]
     },
     "execution_count": 1629,
     "metadata": {},
     "output_type": "execute_result"
    }
   ],
   "source": [
    "beta = data['grade'].mean() / data['len_name'].mean()\n",
    "beta"
   ]
  },
  {
   "cell_type": "code",
   "execution_count": 1630,
   "id": "a15de5cd",
   "metadata": {},
   "outputs": [
    {
     "data": {
      "image/png": "[encoded data removed]",
      "text/plain": [
       "<Figure size 432x288 with 1 Axes>"
      ]
     },
     "metadata": {
      "needs_background": "light"
     },
     "output_type": "display_data"
    }
   ],
   "source": [
    "plt.plot(data['len_name'], data['len_name'] * beta, color = 'black')\n",
    "plt.scatter(data['len_name'], data['grade']);\n",
    "plt.xlabel('lenth of the name')\n",
    "plt.ylabel('exam grade');"
   ]
  },
  {
   "cell_type": "code",
   "execution_count": 1631,
   "id": "fef822fd",
   "metadata": {},
   "outputs": [
    {
     "data": {
      "text/html": [
       "<div>\n",
       "<style scoped>\n",
       "    .dataframe tbody tr th:only-of-type {\n",
       "        vertical-align: middle;\n",
       "    }\n",
       "\n",
       "    .dataframe tbody tr th {\n",
       "        vertical-align: top;\n",
       "    }\n",
       "\n",
       "    .dataframe thead th {\n",
       "        text-align: right;\n",
       "    }\n",
       "</style>\n",
       "<table border=\"1\" class=\"dataframe\">\n",
       "  <thead>\n",
       "    <tr style=\"text-align: right;\">\n",
       "      <th></th>\n",
       "      <th>grade</th>\n",
       "      <th>len_name</th>\n",
       "    </tr>\n",
       "  </thead>\n",
       "  <tbody>\n",
       "    <tr>\n",
       "      <th>grade</th>\n",
       "      <td>1.000000</td>\n",
       "      <td>0.025328</td>\n",
       "    </tr>\n",
       "    <tr>\n",
       "      <th>len_name</th>\n",
       "      <td>0.025328</td>\n",
       "      <td>1.000000</td>\n",
       "    </tr>\n",
       "  </tbody>\n",
       "</table>\n",
       "</div>"
      ],
      "text/plain": [
       "             grade  len_name\n",
       "grade     1.000000  0.025328\n",
       "len_name  0.025328  1.000000"
      ]
     },
     "execution_count": 1631,
     "metadata": {},
     "output_type": "execute_result"
    }
   ],
   "source": [
    "data[['grade', 'len_name']].corr()"
   ]
  },
  {
   "cell_type": "markdown",
   "id": "eff2432c",
   "metadata": {},
   "source": [
    "Получается выборочная кореляция:"
   ]
  },
  {
   "cell_type": "code",
   "execution_count": 1632,
   "id": "491c6335",
   "metadata": {},
   "outputs": [
    {
     "data": {
      "text/plain": [
       "0.025328052669147543"
      ]
     },
     "execution_count": 1632,
     "metadata": {},
     "output_type": "execute_result"
    }
   ],
   "source": [
    "p = data[['grade', 'len_name']].corr().iloc[0,1]\n",
    "p"
   ]
  },
  {
   "cell_type": "markdown",
   "id": "d7261f75",
   "metadata": {},
   "source": [
    "__(б)__"
   ]
  },
  {
   "cell_type": "markdown",
   "id": "fd2a8c4a",
   "metadata": {},
   "source": [
    "$H_0: p = 0$\n",
    "\n",
    "$H_1: p \\not = 0$"
   ]
  },
  {
   "cell_type": "markdown",
   "id": "3018a81c",
   "metadata": {},
   "source": [
    "Будем переставлять $Y_i$"
   ]
  },
  {
   "cell_type": "code",
   "execution_count": 1633,
   "id": "96d680fc",
   "metadata": {},
   "outputs": [
    {
     "name": "stderr",
     "output_type": "stream",
     "text": [
      "100%|██████████| 10000/10000 [00:01<00:00, 8065.92it/s]\n"
     ]
    }
   ],
   "source": [
    "np.random.seed(3456436)\n",
    "p_permuted = []\n",
    "for i in tqdm(range(10000)):\n",
    "    y_permuted = np.random.permutation(data.grade)\n",
    "    p_new = np.corrcoef(y_permuted, data.len_name)[0,1]\n",
    "    p_permuted.append(p_new)"
   ]
  },
  {
   "cell_type": "code",
   "execution_count": 1634,
   "id": "e3110cb4",
   "metadata": {},
   "outputs": [],
   "source": [
    "p_permuted = np.array(p_permuted)"
   ]
  },
  {
   "cell_type": "code",
   "execution_count": 1635,
   "id": "390a23d8",
   "metadata": {},
   "outputs": [
    {
     "data": {
      "image/png": "[encoded data removed]",
      "text/plain": [
       "<Figure size 432x288 with 1 Axes>"
      ]
     },
     "metadata": {
      "needs_background": "light"
     },
     "output_type": "display_data"
    }
   ],
   "source": [
    "plt.hist(p_permuted, bins = 30);\n",
    "plt.xlabel('permuted sample correlation')\n",
    "plt.ylabel('count')\n",
    "plt.title('Distribution of the Permuted Correlations');"
   ]
  },
  {
   "cell_type": "code",
   "execution_count": 1705,
   "id": "36433317",
   "metadata": {},
   "outputs": [
    {
     "data": {
      "text/plain": [
       "0.025328052669147543"
      ]
     },
     "execution_count": 1705,
     "metadata": {},
     "output_type": "execute_result"
    }
   ],
   "source": [
    "p #наблюдаемая корреляция"
   ]
  },
  {
   "cell_type": "markdown",
   "id": "5e59728e",
   "metadata": {},
   "source": [
    "Рассчитаем p-значение"
   ]
  },
  {
   "cell_type": "code",
   "execution_count": 1703,
   "id": "a160aee5",
   "metadata": {},
   "outputs": [
    {
     "data": {
      "text/plain": [
       "0.6536"
      ]
     },
     "execution_count": 1703,
     "metadata": {},
     "output_type": "execute_result"
    }
   ],
   "source": [
    "p_value = 2 * min(np.sum(p_permuted > p)/10000, np.sum(p_permuted <= p)/10000)\n",
    "p_value"
   ]
  },
  {
   "cell_type": "markdown",
   "id": "fb34fcad",
   "metadata": {},
   "source": [
    "Получили p-значение, которое ни для одного разумного уровня значимости (0.01, 0.05, 0.1) не позволяет отвергнуть нулевую гипотезу."
   ]
  },
  {
   "cell_type": "markdown",
   "id": "8d852179",
   "metadata": {},
   "source": [
    "95-% доверительный интервал:"
   ]
  },
  {
   "cell_type": "code",
   "execution_count": 1637,
   "id": "46c34342",
   "metadata": {},
   "outputs": [
    {
     "data": {
      "text/plain": [
       "(-0.10660735029950491, 0.10804284937014741)"
      ]
     },
     "execution_count": 1637,
     "metadata": {},
     "output_type": "execute_result"
    }
   ],
   "source": [
    "q_left = np.percentile(p_permuted, 2.5)\n",
    "q_right = np.percentile(p_permuted, 97.5)\n",
    "q_left, q_right"
   ]
  },
  {
   "cell_type": "markdown",
   "id": "9f80f029",
   "metadata": {},
   "source": [
    "__Задание 8__"
   ]
  },
  {
   "cell_type": "markdown",
   "id": "5f3dd165",
   "metadata": {},
   "source": [
    "При подготовке к минимумам  я переодически пользовался учебником 'Probability and Statistics for Economists' Брюса Хансена. В частности, я смотрел там как выглядят функции плотности и распределения для разных распределений, как эти распаределения выглядят графически."
   ]
  },
  {
   "cell_type": "markdown",
   "id": "0489acce",
   "metadata": {},
   "source": [
    "ссылка на учебник: https://disk.yandex.ru/i/GGz2X5BRMB3mQg"
   ]
  },
  {
   "cell_type": "markdown",
   "id": "4dd394bb",
   "metadata": {},
   "source": [
    "В целом, автор очень понятно и доступно излагает материал + все на английском языке, что помогает узнать, как выглядят 'профессиональные' вероятностные термины на языке мировой науки."
   ]
  },
  {
   "cell_type": "markdown",
   "id": "679df530",
   "metadata": {},
   "source": [
    "__Задание 7__"
   ]
  },
  {
   "cell_type": "markdown",
   "id": "692c8174",
   "metadata": {},
   "source": [
    "Я попробовал решить с помощью чата GPT довольно простую задачку из листочков по вероятностям. Задача была сформулирована следующим образом:"
   ]
  },
  {
   "cell_type": "markdown",
   "id": "4c5d5524",
   "metadata": {},
   "source": [
    "*Имеется три монетки. Две «правильных» и одна — с «орлами» по обеим сторонам. Петя выбирает одну монетку наугад и подкидывает её два раза. Оба раза выпадает «орел». Какова условная вероятность того, что монетка «неправильная»?*"
   ]
  },
  {
   "cell_type": "markdown",
   "id": "ce21ca8c",
   "metadata": {},
   "source": [
    "(Это задача 3.1 из подборки probability_pro)"
   ]
  },
  {
   "cell_type": "markdown",
   "id": "190cd6f6",
   "metadata": {},
   "source": [
    "Я использовал следующий бот-чатGPT в телеграме: https://t.me/gpt3_unlim_chatbot"
   ]
  },
  {
   "cell_type": "markdown",
   "id": "1be65cde",
   "metadata": {},
   "source": [
    "Вот экспорт переписки:"
   ]
  },
  {
   "cell_type": "markdown",
   "id": "67a8c9c5",
   "metadata": {},
   "source": [
    "<a href=\"https://ibb.co/Cn9hzSX\"><img src=\"https://i.ibb.co/hKdDyTn/messages.png\" alt=\"messages\" border=\"0\"></a><br /><a target='_blank' href='https://imgbb.com/'>скачать картинки на whatsapp</a><br />"
   ]
  },
  {
   "cell_type": "markdown",
   "id": "57f14a83",
   "metadata": {},
   "source": [
    "Он сразу понял, как надо решать задачу, но допускал арифметическую ошибку. В итоге пришлось явно указать, как надо посчитать одну вероятность, чтобы он ее наконец исправил."
   ]
  },
  {
   "cell_type": "code",
   "execution_count": null,
   "id": "bc8c7db9",
   "metadata": {},
   "outputs": [],
   "source": []
  }
 ],
 "metadata": {
  "kernelspec": {
   "display_name": "Python 3 (ipykernel)",
   "language": "python",
   "name": "python3"
  },
  "language_info": {
   "codemirror_mode": {
    "name": "ipython",
    "version": 3
   },
   "file_extension": ".py",
   "mimetype": "text/x-python",
   "name": "python",
   "nbconvert_exporter": "python",
   "pygments_lexer": "ipython3",
   "version": "3.9.7"
  }
 },
 "nbformat": 4,
 "nbformat_minor": 5
}
